{
  "nbformat": 4,
  "nbformat_minor": 0,
  "metadata": {
    "colab": {
      "provenance": []
    },
    "kernelspec": {
      "name": "python3",
      "display_name": "Python 3"
    },
    "language_info": {
      "name": "python"
    }
  },
  "cells": [
    {
      "cell_type": "markdown",
      "source": [
        "# **DRAGGAN REAL ESTATE-PRICE PREDICTOR** "
      ],
      "metadata": {
        "id": "cgtwiiUJh3uh"
      }
    },
    {
      "cell_type": "code",
      "source": [
        "import pandas as pd\n"
      ],
      "metadata": {
        "id": "06UODUgziJEv"
      },
      "execution_count": 483,
      "outputs": []
    },
    {
      "cell_type": "code",
      "source": [
        "df=pd.read_csv('/content/drive/MyDrive/DATA SCIENCE/PROJECTS/REAL-STATE FILE PREDICTOR/REAL_STATE-csv.csv')"
      ],
      "metadata": {
        "id": "Mvum2N3VvOPx"
      },
      "execution_count": 484,
      "outputs": []
    },
    {
      "cell_type": "code",
      "source": [
        "df"
      ],
      "metadata": {
        "colab": {
          "base_uri": "https://localhost:8080/",
          "height": 485
        },
        "id": "SPxTz3XfJZYp",
        "outputId": "42e2139e-5b36-4564-950d-196cad982718"
      },
      "execution_count": 485,
      "outputs": [
        {
          "output_type": "execute_result",
          "data": {
            "text/plain": [
              "        CRIM    ZN  INDUS  CHAS    NOX     RM   AGE     DIS  RAD  TAX  ...  \\\n",
              "0    0.00632  18.0   2.31     0  0.538  6.575  65.2  4.0900    1  296  ...   \n",
              "1    0.02731   0.0   7.07     0  0.469  6.421  78.9  4.9671    2  242  ...   \n",
              "2    0.02729   0.0   7.07     0  0.469  7.185  61.1  4.9671    2  242  ...   \n",
              "3    0.03237   0.0   2.18     0  0.458  6.998  45.8  6.0622    3  222  ...   \n",
              "4    0.06905   0.0   2.18     0  0.458  7.147  54.2  6.0622    3  222  ...   \n",
              "..       ...   ...    ...   ...    ...    ...   ...     ...  ...  ...  ...   \n",
              "501  0.06263   0.0  11.93     0  0.573  6.593  69.1  2.4786    1  273  ...   \n",
              "502  0.04527   0.0  11.93     0  0.573  6.120  76.7  2.2875    1  273  ...   \n",
              "503  0.06076   0.0  11.93     0  0.573  6.976  91.0  2.1675    1  273  ...   \n",
              "504  0.10959   0.0  11.93     0  0.573  6.794  89.3  2.3889    1  273  ...   \n",
              "505  0.04741   0.0  11.93     0  0.573  6.030  80.8  2.5050    1  273  ...   \n",
              "\n",
              "     Unnamed: 14  Unnamed: 15  Unnamed: 16  Unnamed: 17  Unnamed: 18  \\\n",
              "0            NaN          NaN          NaN          NaN          NaN   \n",
              "1            NaN          NaN          NaN          NaN          NaN   \n",
              "2            NaN          NaN          NaN          NaN          NaN   \n",
              "3            NaN          NaN          NaN          NaN          NaN   \n",
              "4            NaN          NaN          NaN          NaN          NaN   \n",
              "..           ...          ...          ...          ...          ...   \n",
              "501          NaN          NaN          NaN          NaN          NaN   \n",
              "502          NaN          NaN          NaN          NaN          NaN   \n",
              "503          NaN          NaN          NaN          NaN          NaN   \n",
              "504          NaN          NaN          NaN          NaN          NaN   \n",
              "505          NaN          NaN          NaN          NaN          NaN   \n",
              "\n",
              "     Unnamed: 19  Unnamed: 20  Unnamed: 21  Unnamed: 22  Unnamed: 23  \n",
              "0            NaN          NaN          NaN          NaN          NaN  \n",
              "1            NaN          NaN          NaN          NaN          NaN  \n",
              "2            NaN          NaN          NaN          NaN          NaN  \n",
              "3            NaN          NaN          NaN          NaN          NaN  \n",
              "4            NaN          NaN          NaN          NaN          NaN  \n",
              "..           ...          ...          ...          ...          ...  \n",
              "501          NaN          NaN          NaN          NaN          NaN  \n",
              "502          NaN          NaN          NaN          NaN          NaN  \n",
              "503          NaN          NaN          NaN          NaN          NaN  \n",
              "504          NaN          NaN          NaN          NaN          NaN  \n",
              "505          NaN          NaN          NaN          NaN          NaN  \n",
              "\n",
              "[506 rows x 24 columns]"
            ],
            "text/html": [
              "\n",
              "  <div id=\"df-1a0f4f15-1938-4eeb-8cc5-a9ed3201fdb4\">\n",
              "    <div class=\"colab-df-container\">\n",
              "      <div>\n",
              "<style scoped>\n",
              "    .dataframe tbody tr th:only-of-type {\n",
              "        vertical-align: middle;\n",
              "    }\n",
              "\n",
              "    .dataframe tbody tr th {\n",
              "        vertical-align: top;\n",
              "    }\n",
              "\n",
              "    .dataframe thead th {\n",
              "        text-align: right;\n",
              "    }\n",
              "</style>\n",
              "<table border=\"1\" class=\"dataframe\">\n",
              "  <thead>\n",
              "    <tr style=\"text-align: right;\">\n",
              "      <th></th>\n",
              "      <th>CRIM</th>\n",
              "      <th>ZN</th>\n",
              "      <th>INDUS</th>\n",
              "      <th>CHAS</th>\n",
              "      <th>NOX</th>\n",
              "      <th>RM</th>\n",
              "      <th>AGE</th>\n",
              "      <th>DIS</th>\n",
              "      <th>RAD</th>\n",
              "      <th>TAX</th>\n",
              "      <th>...</th>\n",
              "      <th>Unnamed: 14</th>\n",
              "      <th>Unnamed: 15</th>\n",
              "      <th>Unnamed: 16</th>\n",
              "      <th>Unnamed: 17</th>\n",
              "      <th>Unnamed: 18</th>\n",
              "      <th>Unnamed: 19</th>\n",
              "      <th>Unnamed: 20</th>\n",
              "      <th>Unnamed: 21</th>\n",
              "      <th>Unnamed: 22</th>\n",
              "      <th>Unnamed: 23</th>\n",
              "    </tr>\n",
              "  </thead>\n",
              "  <tbody>\n",
              "    <tr>\n",
              "      <th>0</th>\n",
              "      <td>0.00632</td>\n",
              "      <td>18.0</td>\n",
              "      <td>2.31</td>\n",
              "      <td>0</td>\n",
              "      <td>0.538</td>\n",
              "      <td>6.575</td>\n",
              "      <td>65.2</td>\n",
              "      <td>4.0900</td>\n",
              "      <td>1</td>\n",
              "      <td>296</td>\n",
              "      <td>...</td>\n",
              "      <td>NaN</td>\n",
              "      <td>NaN</td>\n",
              "      <td>NaN</td>\n",
              "      <td>NaN</td>\n",
              "      <td>NaN</td>\n",
              "      <td>NaN</td>\n",
              "      <td>NaN</td>\n",
              "      <td>NaN</td>\n",
              "      <td>NaN</td>\n",
              "      <td>NaN</td>\n",
              "    </tr>\n",
              "    <tr>\n",
              "      <th>1</th>\n",
              "      <td>0.02731</td>\n",
              "      <td>0.0</td>\n",
              "      <td>7.07</td>\n",
              "      <td>0</td>\n",
              "      <td>0.469</td>\n",
              "      <td>6.421</td>\n",
              "      <td>78.9</td>\n",
              "      <td>4.9671</td>\n",
              "      <td>2</td>\n",
              "      <td>242</td>\n",
              "      <td>...</td>\n",
              "      <td>NaN</td>\n",
              "      <td>NaN</td>\n",
              "      <td>NaN</td>\n",
              "      <td>NaN</td>\n",
              "      <td>NaN</td>\n",
              "      <td>NaN</td>\n",
              "      <td>NaN</td>\n",
              "      <td>NaN</td>\n",
              "      <td>NaN</td>\n",
              "      <td>NaN</td>\n",
              "    </tr>\n",
              "    <tr>\n",
              "      <th>2</th>\n",
              "      <td>0.02729</td>\n",
              "      <td>0.0</td>\n",
              "      <td>7.07</td>\n",
              "      <td>0</td>\n",
              "      <td>0.469</td>\n",
              "      <td>7.185</td>\n",
              "      <td>61.1</td>\n",
              "      <td>4.9671</td>\n",
              "      <td>2</td>\n",
              "      <td>242</td>\n",
              "      <td>...</td>\n",
              "      <td>NaN</td>\n",
              "      <td>NaN</td>\n",
              "      <td>NaN</td>\n",
              "      <td>NaN</td>\n",
              "      <td>NaN</td>\n",
              "      <td>NaN</td>\n",
              "      <td>NaN</td>\n",
              "      <td>NaN</td>\n",
              "      <td>NaN</td>\n",
              "      <td>NaN</td>\n",
              "    </tr>\n",
              "    <tr>\n",
              "      <th>3</th>\n",
              "      <td>0.03237</td>\n",
              "      <td>0.0</td>\n",
              "      <td>2.18</td>\n",
              "      <td>0</td>\n",
              "      <td>0.458</td>\n",
              "      <td>6.998</td>\n",
              "      <td>45.8</td>\n",
              "      <td>6.0622</td>\n",
              "      <td>3</td>\n",
              "      <td>222</td>\n",
              "      <td>...</td>\n",
              "      <td>NaN</td>\n",
              "      <td>NaN</td>\n",
              "      <td>NaN</td>\n",
              "      <td>NaN</td>\n",
              "      <td>NaN</td>\n",
              "      <td>NaN</td>\n",
              "      <td>NaN</td>\n",
              "      <td>NaN</td>\n",
              "      <td>NaN</td>\n",
              "      <td>NaN</td>\n",
              "    </tr>\n",
              "    <tr>\n",
              "      <th>4</th>\n",
              "      <td>0.06905</td>\n",
              "      <td>0.0</td>\n",
              "      <td>2.18</td>\n",
              "      <td>0</td>\n",
              "      <td>0.458</td>\n",
              "      <td>7.147</td>\n",
              "      <td>54.2</td>\n",
              "      <td>6.0622</td>\n",
              "      <td>3</td>\n",
              "      <td>222</td>\n",
              "      <td>...</td>\n",
              "      <td>NaN</td>\n",
              "      <td>NaN</td>\n",
              "      <td>NaN</td>\n",
              "      <td>NaN</td>\n",
              "      <td>NaN</td>\n",
              "      <td>NaN</td>\n",
              "      <td>NaN</td>\n",
              "      <td>NaN</td>\n",
              "      <td>NaN</td>\n",
              "      <td>NaN</td>\n",
              "    </tr>\n",
              "    <tr>\n",
              "      <th>...</th>\n",
              "      <td>...</td>\n",
              "      <td>...</td>\n",
              "      <td>...</td>\n",
              "      <td>...</td>\n",
              "      <td>...</td>\n",
              "      <td>...</td>\n",
              "      <td>...</td>\n",
              "      <td>...</td>\n",
              "      <td>...</td>\n",
              "      <td>...</td>\n",
              "      <td>...</td>\n",
              "      <td>...</td>\n",
              "      <td>...</td>\n",
              "      <td>...</td>\n",
              "      <td>...</td>\n",
              "      <td>...</td>\n",
              "      <td>...</td>\n",
              "      <td>...</td>\n",
              "      <td>...</td>\n",
              "      <td>...</td>\n",
              "      <td>...</td>\n",
              "    </tr>\n",
              "    <tr>\n",
              "      <th>501</th>\n",
              "      <td>0.06263</td>\n",
              "      <td>0.0</td>\n",
              "      <td>11.93</td>\n",
              "      <td>0</td>\n",
              "      <td>0.573</td>\n",
              "      <td>6.593</td>\n",
              "      <td>69.1</td>\n",
              "      <td>2.4786</td>\n",
              "      <td>1</td>\n",
              "      <td>273</td>\n",
              "      <td>...</td>\n",
              "      <td>NaN</td>\n",
              "      <td>NaN</td>\n",
              "      <td>NaN</td>\n",
              "      <td>NaN</td>\n",
              "      <td>NaN</td>\n",
              "      <td>NaN</td>\n",
              "      <td>NaN</td>\n",
              "      <td>NaN</td>\n",
              "      <td>NaN</td>\n",
              "      <td>NaN</td>\n",
              "    </tr>\n",
              "    <tr>\n",
              "      <th>502</th>\n",
              "      <td>0.04527</td>\n",
              "      <td>0.0</td>\n",
              "      <td>11.93</td>\n",
              "      <td>0</td>\n",
              "      <td>0.573</td>\n",
              "      <td>6.120</td>\n",
              "      <td>76.7</td>\n",
              "      <td>2.2875</td>\n",
              "      <td>1</td>\n",
              "      <td>273</td>\n",
              "      <td>...</td>\n",
              "      <td>NaN</td>\n",
              "      <td>NaN</td>\n",
              "      <td>NaN</td>\n",
              "      <td>NaN</td>\n",
              "      <td>NaN</td>\n",
              "      <td>NaN</td>\n",
              "      <td>NaN</td>\n",
              "      <td>NaN</td>\n",
              "      <td>NaN</td>\n",
              "      <td>NaN</td>\n",
              "    </tr>\n",
              "    <tr>\n",
              "      <th>503</th>\n",
              "      <td>0.06076</td>\n",
              "      <td>0.0</td>\n",
              "      <td>11.93</td>\n",
              "      <td>0</td>\n",
              "      <td>0.573</td>\n",
              "      <td>6.976</td>\n",
              "      <td>91.0</td>\n",
              "      <td>2.1675</td>\n",
              "      <td>1</td>\n",
              "      <td>273</td>\n",
              "      <td>...</td>\n",
              "      <td>NaN</td>\n",
              "      <td>NaN</td>\n",
              "      <td>NaN</td>\n",
              "      <td>NaN</td>\n",
              "      <td>NaN</td>\n",
              "      <td>NaN</td>\n",
              "      <td>NaN</td>\n",
              "      <td>NaN</td>\n",
              "      <td>NaN</td>\n",
              "      <td>NaN</td>\n",
              "    </tr>\n",
              "    <tr>\n",
              "      <th>504</th>\n",
              "      <td>0.10959</td>\n",
              "      <td>0.0</td>\n",
              "      <td>11.93</td>\n",
              "      <td>0</td>\n",
              "      <td>0.573</td>\n",
              "      <td>6.794</td>\n",
              "      <td>89.3</td>\n",
              "      <td>2.3889</td>\n",
              "      <td>1</td>\n",
              "      <td>273</td>\n",
              "      <td>...</td>\n",
              "      <td>NaN</td>\n",
              "      <td>NaN</td>\n",
              "      <td>NaN</td>\n",
              "      <td>NaN</td>\n",
              "      <td>NaN</td>\n",
              "      <td>NaN</td>\n",
              "      <td>NaN</td>\n",
              "      <td>NaN</td>\n",
              "      <td>NaN</td>\n",
              "      <td>NaN</td>\n",
              "    </tr>\n",
              "    <tr>\n",
              "      <th>505</th>\n",
              "      <td>0.04741</td>\n",
              "      <td>0.0</td>\n",
              "      <td>11.93</td>\n",
              "      <td>0</td>\n",
              "      <td>0.573</td>\n",
              "      <td>6.030</td>\n",
              "      <td>80.8</td>\n",
              "      <td>2.5050</td>\n",
              "      <td>1</td>\n",
              "      <td>273</td>\n",
              "      <td>...</td>\n",
              "      <td>NaN</td>\n",
              "      <td>NaN</td>\n",
              "      <td>NaN</td>\n",
              "      <td>NaN</td>\n",
              "      <td>NaN</td>\n",
              "      <td>NaN</td>\n",
              "      <td>NaN</td>\n",
              "      <td>NaN</td>\n",
              "      <td>NaN</td>\n",
              "      <td>NaN</td>\n",
              "    </tr>\n",
              "  </tbody>\n",
              "</table>\n",
              "<p>506 rows × 24 columns</p>\n",
              "</div>\n",
              "      <button class=\"colab-df-convert\" onclick=\"convertToInteractive('df-1a0f4f15-1938-4eeb-8cc5-a9ed3201fdb4')\"\n",
              "              title=\"Convert this dataframe to an interactive table.\"\n",
              "              style=\"display:none;\">\n",
              "        \n",
              "  <svg xmlns=\"http://www.w3.org/2000/svg\" height=\"24px\"viewBox=\"0 0 24 24\"\n",
              "       width=\"24px\">\n",
              "    <path d=\"M0 0h24v24H0V0z\" fill=\"none\"/>\n",
              "    <path d=\"M18.56 5.44l.94 2.06.94-2.06 2.06-.94-2.06-.94-.94-2.06-.94 2.06-2.06.94zm-11 1L8.5 8.5l.94-2.06 2.06-.94-2.06-.94L8.5 2.5l-.94 2.06-2.06.94zm10 10l.94 2.06.94-2.06 2.06-.94-2.06-.94-.94-2.06-.94 2.06-2.06.94z\"/><path d=\"M17.41 7.96l-1.37-1.37c-.4-.4-.92-.59-1.43-.59-.52 0-1.04.2-1.43.59L10.3 9.45l-7.72 7.72c-.78.78-.78 2.05 0 2.83L4 21.41c.39.39.9.59 1.41.59.51 0 1.02-.2 1.41-.59l7.78-7.78 2.81-2.81c.8-.78.8-2.07 0-2.86zM5.41 20L4 18.59l7.72-7.72 1.47 1.35L5.41 20z\"/>\n",
              "  </svg>\n",
              "      </button>\n",
              "      \n",
              "  <style>\n",
              "    .colab-df-container {\n",
              "      display:flex;\n",
              "      flex-wrap:wrap;\n",
              "      gap: 12px;\n",
              "    }\n",
              "\n",
              "    .colab-df-convert {\n",
              "      background-color: #E8F0FE;\n",
              "      border: none;\n",
              "      border-radius: 50%;\n",
              "      cursor: pointer;\n",
              "      display: none;\n",
              "      fill: #1967D2;\n",
              "      height: 32px;\n",
              "      padding: 0 0 0 0;\n",
              "      width: 32px;\n",
              "    }\n",
              "\n",
              "    .colab-df-convert:hover {\n",
              "      background-color: #E2EBFA;\n",
              "      box-shadow: 0px 1px 2px rgba(60, 64, 67, 0.3), 0px 1px 3px 1px rgba(60, 64, 67, 0.15);\n",
              "      fill: #174EA6;\n",
              "    }\n",
              "\n",
              "    [theme=dark] .colab-df-convert {\n",
              "      background-color: #3B4455;\n",
              "      fill: #D2E3FC;\n",
              "    }\n",
              "\n",
              "    [theme=dark] .colab-df-convert:hover {\n",
              "      background-color: #434B5C;\n",
              "      box-shadow: 0px 1px 3px 1px rgba(0, 0, 0, 0.15);\n",
              "      filter: drop-shadow(0px 1px 2px rgba(0, 0, 0, 0.3));\n",
              "      fill: #FFFFFF;\n",
              "    }\n",
              "  </style>\n",
              "\n",
              "      <script>\n",
              "        const buttonEl =\n",
              "          document.querySelector('#df-1a0f4f15-1938-4eeb-8cc5-a9ed3201fdb4 button.colab-df-convert');\n",
              "        buttonEl.style.display =\n",
              "          google.colab.kernel.accessAllowed ? 'block' : 'none';\n",
              "\n",
              "        async function convertToInteractive(key) {\n",
              "          const element = document.querySelector('#df-1a0f4f15-1938-4eeb-8cc5-a9ed3201fdb4');\n",
              "          const dataTable =\n",
              "            await google.colab.kernel.invokeFunction('convertToInteractive',\n",
              "                                                     [key], {});\n",
              "          if (!dataTable) return;\n",
              "\n",
              "          const docLinkHtml = 'Like what you see? Visit the ' +\n",
              "            '<a target=\"_blank\" href=https://colab.research.google.com/notebooks/data_table.ipynb>data table notebook</a>'\n",
              "            + ' to learn more about interactive tables.';\n",
              "          element.innerHTML = '';\n",
              "          dataTable['output_type'] = 'display_data';\n",
              "          await google.colab.output.renderOutput(dataTable, element);\n",
              "          const docLink = document.createElement('div');\n",
              "          docLink.innerHTML = docLinkHtml;\n",
              "          element.appendChild(docLink);\n",
              "        }\n",
              "      </script>\n",
              "    </div>\n",
              "  </div>\n",
              "  "
            ]
          },
          "metadata": {},
          "execution_count": 485
        }
      ]
    },
    {
      "cell_type": "markdown",
      "source": [
        "**Remove column with nan value**"
      ],
      "metadata": {
        "id": "LoSuM4n8sBF_"
      }
    },
    {
      "cell_type": "code",
      "source": [
        "#remove column name with name unnamed\n",
        "df = df.loc[:, ~df.columns.str.contains('^Unnamed')]\n"
      ],
      "metadata": {
        "id": "TA2mlIaJvVbg"
      },
      "execution_count": 486,
      "outputs": []
    },
    {
      "cell_type": "markdown",
      "source": [
        "# **Learn about data**"
      ],
      "metadata": {
        "id": "O0TjMLsVsR_Y"
      }
    },
    {
      "cell_type": "code",
      "source": [
        "df.info()"
      ],
      "metadata": {
        "colab": {
          "base_uri": "https://localhost:8080/"
        },
        "id": "hXVvH4h-2mru",
        "outputId": "5aaa10c5-ac90-433d-c5be-7f6cb449c4f0"
      },
      "execution_count": 487,
      "outputs": [
        {
          "output_type": "stream",
          "name": "stdout",
          "text": [
            "<class 'pandas.core.frame.DataFrame'>\n",
            "RangeIndex: 506 entries, 0 to 505\n",
            "Data columns (total 14 columns):\n",
            " #   Column   Non-Null Count  Dtype  \n",
            "---  ------   --------------  -----  \n",
            " 0   CRIM     506 non-null    float64\n",
            " 1   ZN       506 non-null    float64\n",
            " 2   INDUS    506 non-null    float64\n",
            " 3   CHAS     506 non-null    int64  \n",
            " 4   NOX      506 non-null    float64\n",
            " 5   RM       499 non-null    float64\n",
            " 6   AGE      506 non-null    float64\n",
            " 7   DIS      506 non-null    float64\n",
            " 8   RAD      506 non-null    int64  \n",
            " 9   TAX      506 non-null    int64  \n",
            " 10  PTRATIO  506 non-null    float64\n",
            " 11  B        506 non-null    float64\n",
            " 12   LSTAT   506 non-null    float64\n",
            " 13  MEDV     506 non-null    float64\n",
            "dtypes: float64(11), int64(3)\n",
            "memory usage: 55.5 KB\n"
          ]
        }
      ]
    },
    {
      "cell_type": "code",
      "source": [
        "df['CHAS'].value_counts()"
      ],
      "metadata": {
        "colab": {
          "base_uri": "https://localhost:8080/"
        },
        "id": "FNj6NapMHzPz",
        "outputId": "ece2aafe-ef04-458a-a655-972a3e0c4adf"
      },
      "execution_count": 488,
      "outputs": [
        {
          "output_type": "execute_result",
          "data": {
            "text/plain": [
              "0    471\n",
              "1     35\n",
              "Name: CHAS, dtype: int64"
            ]
          },
          "metadata": {},
          "execution_count": 488
        }
      ]
    },
    {
      "cell_type": "code",
      "source": [
        "df.describe()                     "
      ],
      "metadata": {
        "colab": {
          "base_uri": "https://localhost:8080/",
          "height": 300
        },
        "id": "bPLX9YsYRtrP",
        "outputId": "03ab3b5e-aebd-427c-9bfe-ce220bdc24ce"
      },
      "execution_count": 489,
      "outputs": [
        {
          "output_type": "execute_result",
          "data": {
            "text/plain": [
              "             CRIM          ZN       INDUS        CHAS         NOX          RM  \\\n",
              "count  506.000000  506.000000  506.000000  506.000000  506.000000  499.000000   \n",
              "mean     3.613524   11.363636   11.136779    0.069170    0.554695    6.283365   \n",
              "std      8.601545   23.322453    6.860353    0.253994    0.115878    0.704004   \n",
              "min      0.006320    0.000000    0.460000    0.000000    0.385000    3.561000   \n",
              "25%      0.082045    0.000000    5.190000    0.000000    0.449000    5.882000   \n",
              "50%      0.256510    0.000000    9.690000    0.000000    0.538000    6.209000   \n",
              "75%      3.677083   12.500000   18.100000    0.000000    0.624000    6.627000   \n",
              "max     88.976200  100.000000   27.740000    1.000000    0.871000    8.780000   \n",
              "\n",
              "              AGE         DIS         RAD         TAX     PTRATIO           B  \\\n",
              "count  506.000000  506.000000  506.000000  506.000000  506.000000  506.000000   \n",
              "mean    68.574901    3.795043    9.549407  408.237154   18.455534  356.674032   \n",
              "std     28.148861    2.105710    8.707259  168.537116    2.164946   91.294864   \n",
              "min      2.900000    1.129600    1.000000  187.000000   12.600000    0.320000   \n",
              "25%     45.025000    2.100175    4.000000  279.000000   17.400000  375.377500   \n",
              "50%     77.500000    3.207450    5.000000  330.000000   19.050000  391.440000   \n",
              "75%     94.075000    5.188425   24.000000  666.000000   20.200000  396.225000   \n",
              "max    100.000000   12.126500   24.000000  711.000000   22.000000  396.900000   \n",
              "\n",
              "            LSTAT        MEDV  \n",
              "count  506.000000  506.000000  \n",
              "mean    12.653063   22.532806  \n",
              "std      7.141062    9.197104  \n",
              "min      1.730000    5.000000  \n",
              "25%      6.950000   17.025000  \n",
              "50%     11.360000   21.200000  \n",
              "75%     16.955000   25.000000  \n",
              "max     37.970000   50.000000  "
            ],
            "text/html": [
              "\n",
              "  <div id=\"df-6a7730dc-c369-4815-a81f-cdc6d68e768d\">\n",
              "    <div class=\"colab-df-container\">\n",
              "      <div>\n",
              "<style scoped>\n",
              "    .dataframe tbody tr th:only-of-type {\n",
              "        vertical-align: middle;\n",
              "    }\n",
              "\n",
              "    .dataframe tbody tr th {\n",
              "        vertical-align: top;\n",
              "    }\n",
              "\n",
              "    .dataframe thead th {\n",
              "        text-align: right;\n",
              "    }\n",
              "</style>\n",
              "<table border=\"1\" class=\"dataframe\">\n",
              "  <thead>\n",
              "    <tr style=\"text-align: right;\">\n",
              "      <th></th>\n",
              "      <th>CRIM</th>\n",
              "      <th>ZN</th>\n",
              "      <th>INDUS</th>\n",
              "      <th>CHAS</th>\n",
              "      <th>NOX</th>\n",
              "      <th>RM</th>\n",
              "      <th>AGE</th>\n",
              "      <th>DIS</th>\n",
              "      <th>RAD</th>\n",
              "      <th>TAX</th>\n",
              "      <th>PTRATIO</th>\n",
              "      <th>B</th>\n",
              "      <th>LSTAT</th>\n",
              "      <th>MEDV</th>\n",
              "    </tr>\n",
              "  </thead>\n",
              "  <tbody>\n",
              "    <tr>\n",
              "      <th>count</th>\n",
              "      <td>506.000000</td>\n",
              "      <td>506.000000</td>\n",
              "      <td>506.000000</td>\n",
              "      <td>506.000000</td>\n",
              "      <td>506.000000</td>\n",
              "      <td>499.000000</td>\n",
              "      <td>506.000000</td>\n",
              "      <td>506.000000</td>\n",
              "      <td>506.000000</td>\n",
              "      <td>506.000000</td>\n",
              "      <td>506.000000</td>\n",
              "      <td>506.000000</td>\n",
              "      <td>506.000000</td>\n",
              "      <td>506.000000</td>\n",
              "    </tr>\n",
              "    <tr>\n",
              "      <th>mean</th>\n",
              "      <td>3.613524</td>\n",
              "      <td>11.363636</td>\n",
              "      <td>11.136779</td>\n",
              "      <td>0.069170</td>\n",
              "      <td>0.554695</td>\n",
              "      <td>6.283365</td>\n",
              "      <td>68.574901</td>\n",
              "      <td>3.795043</td>\n",
              "      <td>9.549407</td>\n",
              "      <td>408.237154</td>\n",
              "      <td>18.455534</td>\n",
              "      <td>356.674032</td>\n",
              "      <td>12.653063</td>\n",
              "      <td>22.532806</td>\n",
              "    </tr>\n",
              "    <tr>\n",
              "      <th>std</th>\n",
              "      <td>8.601545</td>\n",
              "      <td>23.322453</td>\n",
              "      <td>6.860353</td>\n",
              "      <td>0.253994</td>\n",
              "      <td>0.115878</td>\n",
              "      <td>0.704004</td>\n",
              "      <td>28.148861</td>\n",
              "      <td>2.105710</td>\n",
              "      <td>8.707259</td>\n",
              "      <td>168.537116</td>\n",
              "      <td>2.164946</td>\n",
              "      <td>91.294864</td>\n",
              "      <td>7.141062</td>\n",
              "      <td>9.197104</td>\n",
              "    </tr>\n",
              "    <tr>\n",
              "      <th>min</th>\n",
              "      <td>0.006320</td>\n",
              "      <td>0.000000</td>\n",
              "      <td>0.460000</td>\n",
              "      <td>0.000000</td>\n",
              "      <td>0.385000</td>\n",
              "      <td>3.561000</td>\n",
              "      <td>2.900000</td>\n",
              "      <td>1.129600</td>\n",
              "      <td>1.000000</td>\n",
              "      <td>187.000000</td>\n",
              "      <td>12.600000</td>\n",
              "      <td>0.320000</td>\n",
              "      <td>1.730000</td>\n",
              "      <td>5.000000</td>\n",
              "    </tr>\n",
              "    <tr>\n",
              "      <th>25%</th>\n",
              "      <td>0.082045</td>\n",
              "      <td>0.000000</td>\n",
              "      <td>5.190000</td>\n",
              "      <td>0.000000</td>\n",
              "      <td>0.449000</td>\n",
              "      <td>5.882000</td>\n",
              "      <td>45.025000</td>\n",
              "      <td>2.100175</td>\n",
              "      <td>4.000000</td>\n",
              "      <td>279.000000</td>\n",
              "      <td>17.400000</td>\n",
              "      <td>375.377500</td>\n",
              "      <td>6.950000</td>\n",
              "      <td>17.025000</td>\n",
              "    </tr>\n",
              "    <tr>\n",
              "      <th>50%</th>\n",
              "      <td>0.256510</td>\n",
              "      <td>0.000000</td>\n",
              "      <td>9.690000</td>\n",
              "      <td>0.000000</td>\n",
              "      <td>0.538000</td>\n",
              "      <td>6.209000</td>\n",
              "      <td>77.500000</td>\n",
              "      <td>3.207450</td>\n",
              "      <td>5.000000</td>\n",
              "      <td>330.000000</td>\n",
              "      <td>19.050000</td>\n",
              "      <td>391.440000</td>\n",
              "      <td>11.360000</td>\n",
              "      <td>21.200000</td>\n",
              "    </tr>\n",
              "    <tr>\n",
              "      <th>75%</th>\n",
              "      <td>3.677083</td>\n",
              "      <td>12.500000</td>\n",
              "      <td>18.100000</td>\n",
              "      <td>0.000000</td>\n",
              "      <td>0.624000</td>\n",
              "      <td>6.627000</td>\n",
              "      <td>94.075000</td>\n",
              "      <td>5.188425</td>\n",
              "      <td>24.000000</td>\n",
              "      <td>666.000000</td>\n",
              "      <td>20.200000</td>\n",
              "      <td>396.225000</td>\n",
              "      <td>16.955000</td>\n",
              "      <td>25.000000</td>\n",
              "    </tr>\n",
              "    <tr>\n",
              "      <th>max</th>\n",
              "      <td>88.976200</td>\n",
              "      <td>100.000000</td>\n",
              "      <td>27.740000</td>\n",
              "      <td>1.000000</td>\n",
              "      <td>0.871000</td>\n",
              "      <td>8.780000</td>\n",
              "      <td>100.000000</td>\n",
              "      <td>12.126500</td>\n",
              "      <td>24.000000</td>\n",
              "      <td>711.000000</td>\n",
              "      <td>22.000000</td>\n",
              "      <td>396.900000</td>\n",
              "      <td>37.970000</td>\n",
              "      <td>50.000000</td>\n",
              "    </tr>\n",
              "  </tbody>\n",
              "</table>\n",
              "</div>\n",
              "      <button class=\"colab-df-convert\" onclick=\"convertToInteractive('df-6a7730dc-c369-4815-a81f-cdc6d68e768d')\"\n",
              "              title=\"Convert this dataframe to an interactive table.\"\n",
              "              style=\"display:none;\">\n",
              "        \n",
              "  <svg xmlns=\"http://www.w3.org/2000/svg\" height=\"24px\"viewBox=\"0 0 24 24\"\n",
              "       width=\"24px\">\n",
              "    <path d=\"M0 0h24v24H0V0z\" fill=\"none\"/>\n",
              "    <path d=\"M18.56 5.44l.94 2.06.94-2.06 2.06-.94-2.06-.94-.94-2.06-.94 2.06-2.06.94zm-11 1L8.5 8.5l.94-2.06 2.06-.94-2.06-.94L8.5 2.5l-.94 2.06-2.06.94zm10 10l.94 2.06.94-2.06 2.06-.94-2.06-.94-.94-2.06-.94 2.06-2.06.94z\"/><path d=\"M17.41 7.96l-1.37-1.37c-.4-.4-.92-.59-1.43-.59-.52 0-1.04.2-1.43.59L10.3 9.45l-7.72 7.72c-.78.78-.78 2.05 0 2.83L4 21.41c.39.39.9.59 1.41.59.51 0 1.02-.2 1.41-.59l7.78-7.78 2.81-2.81c.8-.78.8-2.07 0-2.86zM5.41 20L4 18.59l7.72-7.72 1.47 1.35L5.41 20z\"/>\n",
              "  </svg>\n",
              "      </button>\n",
              "      \n",
              "  <style>\n",
              "    .colab-df-container {\n",
              "      display:flex;\n",
              "      flex-wrap:wrap;\n",
              "      gap: 12px;\n",
              "    }\n",
              "\n",
              "    .colab-df-convert {\n",
              "      background-color: #E8F0FE;\n",
              "      border: none;\n",
              "      border-radius: 50%;\n",
              "      cursor: pointer;\n",
              "      display: none;\n",
              "      fill: #1967D2;\n",
              "      height: 32px;\n",
              "      padding: 0 0 0 0;\n",
              "      width: 32px;\n",
              "    }\n",
              "\n",
              "    .colab-df-convert:hover {\n",
              "      background-color: #E2EBFA;\n",
              "      box-shadow: 0px 1px 2px rgba(60, 64, 67, 0.3), 0px 1px 3px 1px rgba(60, 64, 67, 0.15);\n",
              "      fill: #174EA6;\n",
              "    }\n",
              "\n",
              "    [theme=dark] .colab-df-convert {\n",
              "      background-color: #3B4455;\n",
              "      fill: #D2E3FC;\n",
              "    }\n",
              "\n",
              "    [theme=dark] .colab-df-convert:hover {\n",
              "      background-color: #434B5C;\n",
              "      box-shadow: 0px 1px 3px 1px rgba(0, 0, 0, 0.15);\n",
              "      filter: drop-shadow(0px 1px 2px rgba(0, 0, 0, 0.3));\n",
              "      fill: #FFFFFF;\n",
              "    }\n",
              "  </style>\n",
              "\n",
              "      <script>\n",
              "        const buttonEl =\n",
              "          document.querySelector('#df-6a7730dc-c369-4815-a81f-cdc6d68e768d button.colab-df-convert');\n",
              "        buttonEl.style.display =\n",
              "          google.colab.kernel.accessAllowed ? 'block' : 'none';\n",
              "\n",
              "        async function convertToInteractive(key) {\n",
              "          const element = document.querySelector('#df-6a7730dc-c369-4815-a81f-cdc6d68e768d');\n",
              "          const dataTable =\n",
              "            await google.colab.kernel.invokeFunction('convertToInteractive',\n",
              "                                                     [key], {});\n",
              "          if (!dataTable) return;\n",
              "\n",
              "          const docLinkHtml = 'Like what you see? Visit the ' +\n",
              "            '<a target=\"_blank\" href=https://colab.research.google.com/notebooks/data_table.ipynb>data table notebook</a>'\n",
              "            + ' to learn more about interactive tables.';\n",
              "          element.innerHTML = '';\n",
              "          dataTable['output_type'] = 'display_data';\n",
              "          await google.colab.output.renderOutput(dataTable, element);\n",
              "          const docLink = document.createElement('div');\n",
              "          docLink.innerHTML = docLinkHtml;\n",
              "          element.appendChild(docLink);\n",
              "        }\n",
              "      </script>\n",
              "    </div>\n",
              "  </div>\n",
              "  "
            ]
          },
          "metadata": {},
          "execution_count": 489
        }
      ]
    },
    {
      "cell_type": "code",
      "source": [
        "%matplotlib inline                       \n",
        "import matplotlib.pyplot as plt\n",
        "df.hist(figsize=(20,15))\n"
      ],
      "metadata": {
        "colab": {
          "base_uri": "https://localhost:8080/",
          "height": 1000
        },
        "id": "Ox2fE8PpVS3m",
        "outputId": "8232c273-c837-4a93-f614-71e4833bfe14"
      },
      "execution_count": 490,
      "outputs": [
        {
          "output_type": "execute_result",
          "data": {
            "text/plain": [
              "array([[<matplotlib.axes._subplots.AxesSubplot object at 0x7f8723b7d190>,\n",
              "        <matplotlib.axes._subplots.AxesSubplot object at 0x7f87239daf10>,\n",
              "        <matplotlib.axes._subplots.AxesSubplot object at 0x7f8723988550>,\n",
              "        <matplotlib.axes._subplots.AxesSubplot object at 0x7f87239b9a50>],\n",
              "       [<matplotlib.axes._subplots.AxesSubplot object at 0x7f872396cf50>,\n",
              "        <matplotlib.axes._subplots.AxesSubplot object at 0x7f8723928490>,\n",
              "        <matplotlib.axes._subplots.AxesSubplot object at 0x7f87238dba10>,\n",
              "        <matplotlib.axes._subplots.AxesSubplot object at 0x7f872388edd0>],\n",
              "       [<matplotlib.axes._subplots.AxesSubplot object at 0x7f872388ee10>,\n",
              "        <matplotlib.axes._subplots.AxesSubplot object at 0x7f872384d410>,\n",
              "        <matplotlib.axes._subplots.AxesSubplot object at 0x7f8723833d10>,\n",
              "        <matplotlib.axes._subplots.AxesSubplot object at 0x7f87237f7250>],\n",
              "       [<matplotlib.axes._subplots.AxesSubplot object at 0x7f87237ab750>,\n",
              "        <matplotlib.axes._subplots.AxesSubplot object at 0x7f8723764c50>,\n",
              "        <matplotlib.axes._subplots.AxesSubplot object at 0x7f8723728190>,\n",
              "        <matplotlib.axes._subplots.AxesSubplot object at 0x7f87236dd690>]],\n",
              "      dtype=object)"
            ]
          },
          "metadata": {},
          "execution_count": 490
        },
        {
          "output_type": "display_data",
          "data": {
            "text/plain": [
              "<Figure size 1440x1080 with 16 Axes>"
            ],
            "image/png": "[encoded data removed]"
          },
          "metadata": {
            "needs_background": "light"
          }
        }
      ]
    },
    {
      "cell_type": "markdown",
      "source": [
        "# **this is the manual way how train test split is done**"
      ],
      "metadata": {
        "id": "1PUs8SPuF4iP"
      }
    },
    {
      "cell_type": "code",
      "source": [
        "#this is the manual way how train test split is done\n",
        "import numpy as np\n",
        "def train_test_split(data,ratio):\n",
        "  shuffle=np.random.permutation(len(data))\n",
        "  np.random.seed(42)\n",
        "  test_size_index=int(len(data)*ratio)\n",
        "  test_indices=shuffle[:test_size_index]\n",
        "  train_indices=shuffle[test_size_index:]\n",
        "  \n",
        "  return data.iloc[train_indices],data.iloc[test_indices]"
      ],
      "metadata": {
        "id": "AlcBZWgqaAGN"
      },
      "execution_count": 491,
      "outputs": []
    },
    {
      "cell_type": "code",
      "source": [
        "train_set, test_set=train_test_split(df,0.2)"
      ],
      "metadata": {
        "id": "lXnKcJJ_agIt"
      },
      "execution_count": 492,
      "outputs": []
    },
    {
      "cell_type": "code",
      "source": [
        "print(f\"rows in trainset:{len(train_set)} \\n rows in testset: {len(test_set)}\")"
      ],
      "metadata": {
        "colab": {
          "base_uri": "https://localhost:8080/"
        },
        "id": "2OsTDOhrerCB",
        "outputId": "7d764103-89df-4691-d936-d320a466968a"
      },
      "execution_count": 493,
      "outputs": [
        {
          "output_type": "stream",
          "name": "stdout",
          "text": [
            "rows in trainset:405 \n",
            " rows in testset: 101\n"
          ]
        }
      ]
    },
    {
      "cell_type": "markdown",
      "source": [
        "# **train test split using library**"
      ],
      "metadata": {
        "id": "hjrIJQOJGFuJ"
      }
    },
    {
      "cell_type": "code",
      "source": [
        "from pandas.core.common import random_state\n",
        "from sklearn.model_selection import train_test_split\n",
        "train_set,test_set=train_test_split(df,test_size=0.2,random_state=42)"
      ],
      "metadata": {
        "id": "R3gTrx2Uj3vI"
      },
      "execution_count": 494,
      "outputs": []
    },
    {
      "cell_type": "markdown",
      "source": [
        "# **stratified shuffle**"
      ],
      "metadata": {
        "id": "QkfPeqvNGUqc"
      }
    },
    {
      "cell_type": "markdown",
      "source": [
        "MAY BE HAPPENED THAT TRAIN DATA BELONGS TO ONLY ONE CLASS \n",
        "SO OUR TRAINING MODEL WILL BE NOT BE TRAIN ON ZERO CLASSNew Section thats why we do stratified shuffle "
      ],
      "metadata": {
        "id": "E1l3KKipGjEq"
      }
    },
    {
      "cell_type": "code",
      "source": [
        "from sklearn.model_selection import StratifiedShuffleSplit\n",
        "split= StratifiedShuffleSplit(n_splits=1,test_size=0.2,random_state=42)\n",
        "for train_index,test_index in split.split(df,df['CHAS']):\n",
        "  strat_train_set=df.loc[train_index]\n",
        "  strat_test_set=df.loc[test_index]\n"
      ],
      "metadata": {
        "id": "1y60yvjGpJ7c"
      },
      "execution_count": 495,
      "outputs": []
    },
    {
      "cell_type": "code",
      "source": [
        "df=strat_train_set\n",
        "df_test=strat_test_set"
      ],
      "metadata": {
        "id": "meaa31H3HkI4"
      },
      "execution_count": 496,
      "outputs": []
    },
    {
      "cell_type": "code",
      "source": [
        "df_test"
      ],
      "metadata": {
        "colab": {
          "base_uri": "https://localhost:8080/",
          "height": 423
        },
        "id": "U9B5dGXm9-ia",
        "outputId": "bb39b954-eeca-4834-bf82-48ad4d8fcbd7"
      },
      "execution_count": 497,
      "outputs": [
        {
          "output_type": "execute_result",
          "data": {
            "text/plain": [
              "         CRIM    ZN  INDUS  CHAS    NOX     RM    AGE     DIS  RAD  TAX  \\\n",
              "342   0.02498   0.0   1.89     0  0.518  6.540   59.7  6.2669    1  422   \n",
              "379  17.86670   0.0  18.10     0  0.671  6.223  100.0  1.3861   24  666   \n",
              "223   0.61470   0.0   6.20     0  0.507  6.618   80.8  3.2721    8  307   \n",
              "219   0.11425   0.0  13.89     1  0.550  6.373   92.4  3.3633    5  276   \n",
              "48    0.25387   0.0   6.91     0  0.448  5.399   95.3  5.8700    3  233   \n",
              "..        ...   ...    ...   ...    ...    ...    ...     ...  ...  ...   \n",
              "88    0.05660   0.0   3.41     0  0.489  7.007   86.3  3.4217    2  270   \n",
              "466   3.77498   0.0  18.10     0  0.655  5.952   84.7  2.8715   24  666   \n",
              "52    0.05360  21.0   5.64     0  0.439  6.511   21.1  6.8147    4  243   \n",
              "121   0.07165   0.0  25.65     0  0.581  6.004   84.1  2.1974    2  188   \n",
              "218   0.11069   0.0  13.89     1  0.550  5.951   93.8  2.8893    5  276   \n",
              "\n",
              "     PTRATIO       B   LSTAT  MEDV  \n",
              "342     15.9  389.96    8.65  16.5  \n",
              "379     20.2  393.74   21.78  10.2  \n",
              "223     17.4  396.90    7.60  30.1  \n",
              "219     16.4  393.74   10.50  23.0  \n",
              "48      17.9  396.90   30.81  14.4  \n",
              "..       ...     ...     ...   ...  \n",
              "88      17.8  396.90    5.50  23.6  \n",
              "466     20.2   22.01   17.15  19.0  \n",
              "52      16.8  396.90    5.28  25.0  \n",
              "121     19.1  377.67   14.27  20.3  \n",
              "218     16.4  396.90   17.92  21.5  \n",
              "\n",
              "[102 rows x 14 columns]"
            ],
            "text/html": [
              "\n",
              "  <div id=\"df-8a8e9613-fa3e-4233-afb7-bfe3da769349\">\n",
              "    <div class=\"colab-df-container\">\n",
              "      <div>\n",
              "<style scoped>\n",
              "    .dataframe tbody tr th:only-of-type {\n",
              "        vertical-align: middle;\n",
              "    }\n",
              "\n",
              "    .dataframe tbody tr th {\n",
              "        vertical-align: top;\n",
              "    }\n",
              "\n",
              "    .dataframe thead th {\n",
              "        text-align: right;\n",
              "    }\n",
              "</style>\n",
              "<table border=\"1\" class=\"dataframe\">\n",
              "  <thead>\n",
              "    <tr style=\"text-align: right;\">\n",
              "      <th></th>\n",
              "      <th>CRIM</th>\n",
              "      <th>ZN</th>\n",
              "      <th>INDUS</th>\n",
              "      <th>CHAS</th>\n",
              "      <th>NOX</th>\n",
              "      <th>RM</th>\n",
              "      <th>AGE</th>\n",
              "      <th>DIS</th>\n",
              "      <th>RAD</th>\n",
              "      <th>TAX</th>\n",
              "      <th>PTRATIO</th>\n",
              "      <th>B</th>\n",
              "      <th>LSTAT</th>\n",
              "      <th>MEDV</th>\n",
              "    </tr>\n",
              "  </thead>\n",
              "  <tbody>\n",
              "    <tr>\n",
              "      <th>342</th>\n",
              "      <td>0.02498</td>\n",
              "      <td>0.0</td>\n",
              "      <td>1.89</td>\n",
              "      <td>0</td>\n",
              "      <td>0.518</td>\n",
              "      <td>6.540</td>\n",
              "      <td>59.7</td>\n",
              "      <td>6.2669</td>\n",
              "      <td>1</td>\n",
              "      <td>422</td>\n",
              "      <td>15.9</td>\n",
              "      <td>389.96</td>\n",
              "      <td>8.65</td>\n",
              "      <td>16.5</td>\n",
              "    </tr>\n",
              "    <tr>\n",
              "      <th>379</th>\n",
              "      <td>17.86670</td>\n",
              "      <td>0.0</td>\n",
              "      <td>18.10</td>\n",
              "      <td>0</td>\n",
              "      <td>0.671</td>\n",
              "      <td>6.223</td>\n",
              "      <td>100.0</td>\n",
              "      <td>1.3861</td>\n",
              "      <td>24</td>\n",
              "      <td>666</td>\n",
              "      <td>20.2</td>\n",
              "      <td>393.74</td>\n",
              "      <td>21.78</td>\n",
              "      <td>10.2</td>\n",
              "    </tr>\n",
              "    <tr>\n",
              "      <th>223</th>\n",
              "      <td>0.61470</td>\n",
              "      <td>0.0</td>\n",
              "      <td>6.20</td>\n",
              "      <td>0</td>\n",
              "      <td>0.507</td>\n",
              "      <td>6.618</td>\n",
              "      <td>80.8</td>\n",
              "      <td>3.2721</td>\n",
              "      <td>8</td>\n",
              "      <td>307</td>\n",
              "      <td>17.4</td>\n",
              "      <td>396.90</td>\n",
              "      <td>7.60</td>\n",
              "      <td>30.1</td>\n",
              "    </tr>\n",
              "    <tr>\n",
              "      <th>219</th>\n",
              "      <td>0.11425</td>\n",
              "      <td>0.0</td>\n",
              "      <td>13.89</td>\n",
              "      <td>1</td>\n",
              "      <td>0.550</td>\n",
              "      <td>6.373</td>\n",
              "      <td>92.4</td>\n",
              "      <td>3.3633</td>\n",
              "      <td>5</td>\n",
              "      <td>276</td>\n",
              "      <td>16.4</td>\n",
              "      <td>393.74</td>\n",
              "      <td>10.50</td>\n",
              "      <td>23.0</td>\n",
              "    </tr>\n",
              "    <tr>\n",
              "      <th>48</th>\n",
              "      <td>0.25387</td>\n",
              "      <td>0.0</td>\n",
              "      <td>6.91</td>\n",
              "      <td>0</td>\n",
              "      <td>0.448</td>\n",
              "      <td>5.399</td>\n",
              "      <td>95.3</td>\n",
              "      <td>5.8700</td>\n",
              "      <td>3</td>\n",
              "      <td>233</td>\n",
              "      <td>17.9</td>\n",
              "      <td>396.90</td>\n",
              "      <td>30.81</td>\n",
              "      <td>14.4</td>\n",
              "    </tr>\n",
              "    <tr>\n",
              "      <th>...</th>\n",
              "      <td>...</td>\n",
              "      <td>...</td>\n",
              "      <td>...</td>\n",
              "      <td>...</td>\n",
              "      <td>...</td>\n",
              "      <td>...</td>\n",
              "      <td>...</td>\n",
              "      <td>...</td>\n",
              "      <td>...</td>\n",
              "      <td>...</td>\n",
              "      <td>...</td>\n",
              "      <td>...</td>\n",
              "      <td>...</td>\n",
              "      <td>...</td>\n",
              "    </tr>\n",
              "    <tr>\n",
              "      <th>88</th>\n",
              "      <td>0.05660</td>\n",
              "      <td>0.0</td>\n",
              "      <td>3.41</td>\n",
              "      <td>0</td>\n",
              "      <td>0.489</td>\n",
              "      <td>7.007</td>\n",
              "      <td>86.3</td>\n",
              "      <td>3.4217</td>\n",
              "      <td>2</td>\n",
              "      <td>270</td>\n",
              "      <td>17.8</td>\n",
              "      <td>396.90</td>\n",
              "      <td>5.50</td>\n",
              "      <td>23.6</td>\n",
              "    </tr>\n",
              "    <tr>\n",
              "      <th>466</th>\n",
              "      <td>3.77498</td>\n",
              "      <td>0.0</td>\n",
              "      <td>18.10</td>\n",
              "      <td>0</td>\n",
              "      <td>0.655</td>\n",
              "      <td>5.952</td>\n",
              "      <td>84.7</td>\n",
              "      <td>2.8715</td>\n",
              "      <td>24</td>\n",
              "      <td>666</td>\n",
              "      <td>20.2</td>\n",
              "      <td>22.01</td>\n",
              "      <td>17.15</td>\n",
              "      <td>19.0</td>\n",
              "    </tr>\n",
              "    <tr>\n",
              "      <th>52</th>\n",
              "      <td>0.05360</td>\n",
              "      <td>21.0</td>\n",
              "      <td>5.64</td>\n",
              "      <td>0</td>\n",
              "      <td>0.439</td>\n",
              "      <td>6.511</td>\n",
              "      <td>21.1</td>\n",
              "      <td>6.8147</td>\n",
              "      <td>4</td>\n",
              "      <td>243</td>\n",
              "      <td>16.8</td>\n",
              "      <td>396.90</td>\n",
              "      <td>5.28</td>\n",
              "      <td>25.0</td>\n",
              "    </tr>\n",
              "    <tr>\n",
              "      <th>121</th>\n",
              "      <td>0.07165</td>\n",
              "      <td>0.0</td>\n",
              "      <td>25.65</td>\n",
              "      <td>0</td>\n",
              "      <td>0.581</td>\n",
              "      <td>6.004</td>\n",
              "      <td>84.1</td>\n",
              "      <td>2.1974</td>\n",
              "      <td>2</td>\n",
              "      <td>188</td>\n",
              "      <td>19.1</td>\n",
              "      <td>377.67</td>\n",
              "      <td>14.27</td>\n",
              "      <td>20.3</td>\n",
              "    </tr>\n",
              "    <tr>\n",
              "      <th>218</th>\n",
              "      <td>0.11069</td>\n",
              "      <td>0.0</td>\n",
              "      <td>13.89</td>\n",
              "      <td>1</td>\n",
              "      <td>0.550</td>\n",
              "      <td>5.951</td>\n",
              "      <td>93.8</td>\n",
              "      <td>2.8893</td>\n",
              "      <td>5</td>\n",
              "      <td>276</td>\n",
              "      <td>16.4</td>\n",
              "      <td>396.90</td>\n",
              "      <td>17.92</td>\n",
              "      <td>21.5</td>\n",
              "    </tr>\n",
              "  </tbody>\n",
              "</table>\n",
              "<p>102 rows × 14 columns</p>\n",
              "</div>\n",
              "      <button class=\"colab-df-convert\" onclick=\"convertToInteractive('df-8a8e9613-fa3e-4233-afb7-bfe3da769349')\"\n",
              "              title=\"Convert this dataframe to an interactive table.\"\n",
              "              style=\"display:none;\">\n",
              "        \n",
              "  <svg xmlns=\"http://www.w3.org/2000/svg\" height=\"24px\"viewBox=\"0 0 24 24\"\n",
              "       width=\"24px\">\n",
              "    <path d=\"M0 0h24v24H0V0z\" fill=\"none\"/>\n",
              "    <path d=\"M18.56 5.44l.94 2.06.94-2.06 2.06-.94-2.06-.94-.94-2.06-.94 2.06-2.06.94zm-11 1L8.5 8.5l.94-2.06 2.06-.94-2.06-.94L8.5 2.5l-.94 2.06-2.06.94zm10 10l.94 2.06.94-2.06 2.06-.94-2.06-.94-.94-2.06-.94 2.06-2.06.94z\"/><path d=\"M17.41 7.96l-1.37-1.37c-.4-.4-.92-.59-1.43-.59-.52 0-1.04.2-1.43.59L10.3 9.45l-7.72 7.72c-.78.78-.78 2.05 0 2.83L4 21.41c.39.39.9.59 1.41.59.51 0 1.02-.2 1.41-.59l7.78-7.78 2.81-2.81c.8-.78.8-2.07 0-2.86zM5.41 20L4 18.59l7.72-7.72 1.47 1.35L5.41 20z\"/>\n",
              "  </svg>\n",
              "      </button>\n",
              "      \n",
              "  <style>\n",
              "    .colab-df-container {\n",
              "      display:flex;\n",
              "      flex-wrap:wrap;\n",
              "      gap: 12px;\n",
              "    }\n",
              "\n",
              "    .colab-df-convert {\n",
              "      background-color: #E8F0FE;\n",
              "      border: none;\n",
              "      border-radius: 50%;\n",
              "      cursor: pointer;\n",
              "      display: none;\n",
              "      fill: #1967D2;\n",
              "      height: 32px;\n",
              "      padding: 0 0 0 0;\n",
              "      width: 32px;\n",
              "    }\n",
              "\n",
              "    .colab-df-convert:hover {\n",
              "      background-color: #E2EBFA;\n",
              "      box-shadow: 0px 1px 2px rgba(60, 64, 67, 0.3), 0px 1px 3px 1px rgba(60, 64, 67, 0.15);\n",
              "      fill: #174EA6;\n",
              "    }\n",
              "\n",
              "    [theme=dark] .colab-df-convert {\n",
              "      background-color: #3B4455;\n",
              "      fill: #D2E3FC;\n",
              "    }\n",
              "\n",
              "    [theme=dark] .colab-df-convert:hover {\n",
              "      background-color: #434B5C;\n",
              "      box-shadow: 0px 1px 3px 1px rgba(0, 0, 0, 0.15);\n",
              "      filter: drop-shadow(0px 1px 2px rgba(0, 0, 0, 0.3));\n",
              "      fill: #FFFFFF;\n",
              "    }\n",
              "  </style>\n",
              "\n",
              "      <script>\n",
              "        const buttonEl =\n",
              "          document.querySelector('#df-8a8e9613-fa3e-4233-afb7-bfe3da769349 button.colab-df-convert');\n",
              "        buttonEl.style.display =\n",
              "          google.colab.kernel.accessAllowed ? 'block' : 'none';\n",
              "\n",
              "        async function convertToInteractive(key) {\n",
              "          const element = document.querySelector('#df-8a8e9613-fa3e-4233-afb7-bfe3da769349');\n",
              "          const dataTable =\n",
              "            await google.colab.kernel.invokeFunction('convertToInteractive',\n",
              "                                                     [key], {});\n",
              "          if (!dataTable) return;\n",
              "\n",
              "          const docLinkHtml = 'Like what you see? Visit the ' +\n",
              "            '<a target=\"_blank\" href=https://colab.research.google.com/notebooks/data_table.ipynb>data table notebook</a>'\n",
              "            + ' to learn more about interactive tables.';\n",
              "          element.innerHTML = '';\n",
              "          dataTable['output_type'] = 'display_data';\n",
              "          await google.colab.output.renderOutput(dataTable, element);\n",
              "          const docLink = document.createElement('div');\n",
              "          docLink.innerHTML = docLinkHtml;\n",
              "          element.appendChild(docLink);\n",
              "        }\n",
              "      </script>\n",
              "    </div>\n",
              "  </div>\n",
              "  "
            ]
          },
          "metadata": {},
          "execution_count": 497
        }
      ]
    },
    {
      "cell_type": "code",
      "source": [
        "strat_test_set['CHAS'].value_counts()"
      ],
      "metadata": {
        "colab": {
          "base_uri": "https://localhost:8080/"
        },
        "id": "Amrm46_hnAQf",
        "outputId": "2b4d25af-5ae9-4d70-c754-312731dc92bb"
      },
      "execution_count": 498,
      "outputs": [
        {
          "output_type": "execute_result",
          "data": {
            "text/plain": [
              "0    95\n",
              "1     7\n",
              "Name: CHAS, dtype: int64"
            ]
          },
          "metadata": {},
          "execution_count": 498
        }
      ]
    },
    {
      "cell_type": "code",
      "source": [
        "strat_train_set['CHAS'].value_counts()"
      ],
      "metadata": {
        "colab": {
          "base_uri": "https://localhost:8080/"
        },
        "id": "iriUIiv5uNB2",
        "outputId": "ac8fb960-efc2-494f-e734-f95a71feea4f"
      },
      "execution_count": 499,
      "outputs": [
        {
          "output_type": "execute_result",
          "data": {
            "text/plain": [
              "0    376\n",
              "1     28\n",
              "Name: CHAS, dtype: int64"
            ]
          },
          "metadata": {},
          "execution_count": 499
        }
      ]
    },
    {
      "cell_type": "code",
      "source": [
        "95/7"
      ],
      "metadata": {
        "colab": {
          "base_uri": "https://localhost:8080/"
        },
        "id": "DFNQXjKOuY2q",
        "outputId": "eee4e814-6acf-418f-ca52-e3081f6bad5f"
      },
      "execution_count": 500,
      "outputs": [
        {
          "output_type": "execute_result",
          "data": {
            "text/plain": [
              "13.571428571428571"
            ]
          },
          "metadata": {},
          "execution_count": 500
        }
      ]
    },
    {
      "cell_type": "code",
      "source": [
        "376/28"
      ],
      "metadata": {
        "colab": {
          "base_uri": "https://localhost:8080/"
        },
        "id": "Uf2mfe920FQe",
        "outputId": "6a73ebd5-1ff3-4cb1-c6a3-c77796e00eb0"
      },
      "execution_count": 501,
      "outputs": [
        {
          "output_type": "execute_result",
          "data": {
            "text/plain": [
              "13.428571428571429"
            ]
          },
          "metadata": {},
          "execution_count": 501
        }
      ]
    },
    {
      "cell_type": "markdown",
      "source": [
        "# **correlation this is a pearson correlation means the target attribute increase with the attribute or target value decrease with the attribute"
      ],
      "metadata": {
        "id": "sz0bEtSrG-h3"
      }
    },
    {
      "cell_type": "code",
      "source": [
        "matrix=df.corr()"
      ],
      "metadata": {
        "id": "wxCNSJV51zYs"
      },
      "execution_count": 502,
      "outputs": []
    },
    {
      "cell_type": "code",
      "source": [
        "'''this is pearson correlation'''\n",
        "matrix['MEDV'].sort_values(ascending=False)"
      ],
      "metadata": {
        "colab": {
          "base_uri": "https://localhost:8080/"
        },
        "id": "PvXxos8r19Yn",
        "outputId": "f65fc357-0cce-4405-886c-169a33cbc1ef"
      },
      "execution_count": 503,
      "outputs": [
        {
          "output_type": "execute_result",
          "data": {
            "text/plain": [
              "MEDV       1.000000\n",
              "RM         0.677189\n",
              "B          0.361761\n",
              "ZN         0.339741\n",
              "DIS        0.240451\n",
              "CHAS       0.205066\n",
              "AGE       -0.364596\n",
              "RAD       -0.374693\n",
              "CRIM      -0.393715\n",
              "NOX       -0.422873\n",
              "TAX       -0.456657\n",
              "INDUS     -0.473516\n",
              "PTRATIO   -0.493534\n",
              " LSTAT    -0.740494\n",
              "Name: MEDV, dtype: float64"
            ]
          },
          "metadata": {},
          "execution_count": 503
        }
      ]
    },
    {
      "cell_type": "code",
      "source": [
        "from pandas.plotting import scatter_matrix\n",
        "attri=['MEDV','RM','ZN',' LSTAT']\n",
        "scatter_matrix(df[attri],figsize = (12,8))"
      ],
      "metadata": {
        "colab": {
          "base_uri": "https://localhost:8080/",
          "height": 817
        },
        "id": "vNQ9_7vJBvqh",
        "outputId": "3c2ad258-943c-41fa-c950-b4416bcdb242"
      },
      "execution_count": 504,
      "outputs": [
        {
          "output_type": "execute_result",
          "data": {
            "text/plain": [
              "array([[<matplotlib.axes._subplots.AxesSubplot object at 0x7f872329c050>,\n",
              "        <matplotlib.axes._subplots.AxesSubplot object at 0x7f87232033d0>,\n",
              "        <matplotlib.axes._subplots.AxesSubplot object at 0x7f8723230e50>,\n",
              "        <matplotlib.axes._subplots.AxesSubplot object at 0x7f87231ef450>],\n",
              "       [<matplotlib.axes._subplots.AxesSubplot object at 0x7f87231a3910>,\n",
              "        <matplotlib.axes._subplots.AxesSubplot object at 0x7f8723158e10>,\n",
              "        <matplotlib.axes._subplots.AxesSubplot object at 0x7f872311b3d0>,\n",
              "        <matplotlib.axes._subplots.AxesSubplot object at 0x7f87230d05d0>],\n",
              "       [<matplotlib.axes._subplots.AxesSubplot object at 0x7f87230d0610>,\n",
              "        <matplotlib.axes._subplots.AxesSubplot object at 0x7f8723087b50>,\n",
              "        <matplotlib.axes._subplots.AxesSubplot object at 0x7f8723002490>,\n",
              "        <matplotlib.axes._subplots.AxesSubplot object at 0x7f8724904950>],\n",
              "       [<matplotlib.axes._subplots.AxesSubplot object at 0x7f8724650850>,\n",
              "        <matplotlib.axes._subplots.AxesSubplot object at 0x7f87245030d0>,\n",
              "        <matplotlib.axes._subplots.AxesSubplot object at 0x7f87245a0850>,\n",
              "        <matplotlib.axes._subplots.AxesSubplot object at 0x7f87244e8d10>]],\n",
              "      dtype=object)"
            ]
          },
          "metadata": {},
          "execution_count": 504
        },
        {
          "output_type": "display_data",
          "data": {
            "text/plain": [
              "<Figure size 864x576 with 16 Axes>"
            ],
            "image/png": "[encoded data removed]"
          },
          "metadata": {
            "needs_background": "light"
          }
        }
      ]
    },
    {
      "cell_type": "code",
      "source": [
        "df.plot(kind='scatter' , x='RM' , y='MEDV')"
      ],
      "metadata": {
        "colab": {
          "base_uri": "https://localhost:8080/",
          "height": 297
        },
        "id": "6-8KXSti_iCB",
        "outputId": "cc6c3a53-81ee-4675-9ae1-ddee42d5730d"
      },
      "execution_count": 505,
      "outputs": [
        {
          "output_type": "execute_result",
          "data": {
            "text/plain": [
              "<matplotlib.axes._subplots.AxesSubplot at 0x7f8722d5df10>"
            ]
          },
          "metadata": {},
          "execution_count": 505
        },
        {
          "output_type": "display_data",
          "data": {
            "text/plain": [
              "<Figure size 432x288 with 1 Axes>"
            ],
            "image/png": "[encoded data removed]"
          },
          "metadata": {
            "needs_background": "light"
          }
        }
      ]
    },
    {
      "cell_type": "markdown",
      "source": [
        "**can column by combination of two column **"
      ],
      "metadata": {
        "id": "jDaSs0AxssvW"
      }
    },
    {
      "cell_type": "code",
      "source": [
        "#df['tax-PER-ROOM']=df['TAX']/df['RM']"
      ],
      "metadata": {
        "id": "cTfEcYP2Gd8_"
      },
      "execution_count": 506,
      "outputs": []
    },
    {
      "cell_type": "code",
      "source": [
        "df"
      ],
      "metadata": {
        "colab": {
          "base_uri": "https://localhost:8080/",
          "height": 423
        },
        "id": "UrailLSXH8LA",
        "outputId": "8761a4c5-3f72-4aa3-c18f-9ca63c8d48b5"
      },
      "execution_count": 507,
      "outputs": [
        {
          "output_type": "execute_result",
          "data": {
            "text/plain": [
              "        CRIM    ZN  INDUS  CHAS    NOX     RM   AGE     DIS  RAD  TAX  \\\n",
              "254  0.04819  80.0   3.64     0  0.392  6.108  32.0  9.2203    1  315   \n",
              "348  0.01501  80.0   2.01     0  0.435  6.635  29.7  8.3440    4  280   \n",
              "476  4.87141   0.0  18.10     0  0.614  6.484  93.6  2.3053   24  666   \n",
              "321  0.18159   0.0   7.38     0  0.493  6.376  54.3  4.5404    5  287   \n",
              "326  0.30347   0.0   7.38     0  0.493  6.312  28.9  5.4159    5  287   \n",
              "..       ...   ...    ...   ...    ...    ...   ...     ...  ...  ...   \n",
              "155  3.53501   0.0  19.58     1  0.871    NaN  82.6  1.7455    5  403   \n",
              "423  7.05042   0.0  18.10     0  0.614  6.103  85.1  2.0218   24  666   \n",
              "98   0.08187   0.0   2.89     0  0.445  7.820  36.9  3.4952    2  276   \n",
              "455  4.75237   0.0  18.10     0  0.713  6.525  86.5  2.4358   24  666   \n",
              "216  0.04560   0.0  13.89     1  0.550  5.888  56.0  3.1121    5  276   \n",
              "\n",
              "     PTRATIO       B   LSTAT  MEDV  \n",
              "254     16.4  392.89    6.57  21.9  \n",
              "348     17.0  390.94    5.99  24.5  \n",
              "476     20.2  396.21   18.68  16.7  \n",
              "321     19.6  396.90    6.87  23.1  \n",
              "326     19.6  396.90    6.15  23.0  \n",
              "..       ...     ...     ...   ...  \n",
              "155     14.7   88.01   15.02  15.6  \n",
              "423     20.2    2.52   23.29  13.4  \n",
              "98      18.0  393.53    3.57  43.8  \n",
              "455     20.2   50.92   18.13  14.1  \n",
              "216     16.4  392.80   13.51  23.3  \n",
              "\n",
              "[404 rows x 14 columns]"
            ],
            "text/html": [
              "\n",
              "  <div id=\"df-d058b8f0-b076-4da5-9d55-63e5dafe855f\">\n",
              "    <div class=\"colab-df-container\">\n",
              "      <div>\n",
              "<style scoped>\n",
              "    .dataframe tbody tr th:only-of-type {\n",
              "        vertical-align: middle;\n",
              "    }\n",
              "\n",
              "    .dataframe tbody tr th {\n",
              "        vertical-align: top;\n",
              "    }\n",
              "\n",
              "    .dataframe thead th {\n",
              "        text-align: right;\n",
              "    }\n",
              "</style>\n",
              "<table border=\"1\" class=\"dataframe\">\n",
              "  <thead>\n",
              "    <tr style=\"text-align: right;\">\n",
              "      <th></th>\n",
              "      <th>CRIM</th>\n",
              "      <th>ZN</th>\n",
              "      <th>INDUS</th>\n",
              "      <th>CHAS</th>\n",
              "      <th>NOX</th>\n",
              "      <th>RM</th>\n",
              "      <th>AGE</th>\n",
              "      <th>DIS</th>\n",
              "      <th>RAD</th>\n",
              "      <th>TAX</th>\n",
              "      <th>PTRATIO</th>\n",
              "      <th>B</th>\n",
              "      <th>LSTAT</th>\n",
              "      <th>MEDV</th>\n",
              "    </tr>\n",
              "  </thead>\n",
              "  <tbody>\n",
              "    <tr>\n",
              "      <th>254</th>\n",
              "      <td>0.04819</td>\n",
              "      <td>80.0</td>\n",
              "      <td>3.64</td>\n",
              "      <td>0</td>\n",
              "      <td>0.392</td>\n",
              "      <td>6.108</td>\n",
              "      <td>32.0</td>\n",
              "      <td>9.2203</td>\n",
              "      <td>1</td>\n",
              "      <td>315</td>\n",
              "      <td>16.4</td>\n",
              "      <td>392.89</td>\n",
              "      <td>6.57</td>\n",
              "      <td>21.9</td>\n",
              "    </tr>\n",
              "    <tr>\n",
              "      <th>348</th>\n",
              "      <td>0.01501</td>\n",
              "      <td>80.0</td>\n",
              "      <td>2.01</td>\n",
              "      <td>0</td>\n",
              "      <td>0.435</td>\n",
              "      <td>6.635</td>\n",
              "      <td>29.7</td>\n",
              "      <td>8.3440</td>\n",
              "      <td>4</td>\n",
              "      <td>280</td>\n",
              "      <td>17.0</td>\n",
              "      <td>390.94</td>\n",
              "      <td>5.99</td>\n",
              "      <td>24.5</td>\n",
              "    </tr>\n",
              "    <tr>\n",
              "      <th>476</th>\n",
              "      <td>4.87141</td>\n",
              "      <td>0.0</td>\n",
              "      <td>18.10</td>\n",
              "      <td>0</td>\n",
              "      <td>0.614</td>\n",
              "      <td>6.484</td>\n",
              "      <td>93.6</td>\n",
              "      <td>2.3053</td>\n",
              "      <td>24</td>\n",
              "      <td>666</td>\n",
              "      <td>20.2</td>\n",
              "      <td>396.21</td>\n",
              "      <td>18.68</td>\n",
              "      <td>16.7</td>\n",
              "    </tr>\n",
              "    <tr>\n",
              "      <th>321</th>\n",
              "      <td>0.18159</td>\n",
              "      <td>0.0</td>\n",
              "      <td>7.38</td>\n",
              "      <td>0</td>\n",
              "      <td>0.493</td>\n",
              "      <td>6.376</td>\n",
              "      <td>54.3</td>\n",
              "      <td>4.5404</td>\n",
              "      <td>5</td>\n",
              "      <td>287</td>\n",
              "      <td>19.6</td>\n",
              "      <td>396.90</td>\n",
              "      <td>6.87</td>\n",
              "      <td>23.1</td>\n",
              "    </tr>\n",
              "    <tr>\n",
              "      <th>326</th>\n",
              "      <td>0.30347</td>\n",
              "      <td>0.0</td>\n",
              "      <td>7.38</td>\n",
              "      <td>0</td>\n",
              "      <td>0.493</td>\n",
              "      <td>6.312</td>\n",
              "      <td>28.9</td>\n",
              "      <td>5.4159</td>\n",
              "      <td>5</td>\n",
              "      <td>287</td>\n",
              "      <td>19.6</td>\n",
              "      <td>396.90</td>\n",
              "      <td>6.15</td>\n",
              "      <td>23.0</td>\n",
              "    </tr>\n",
              "    <tr>\n",
              "      <th>...</th>\n",
              "      <td>...</td>\n",
              "      <td>...</td>\n",
              "      <td>...</td>\n",
              "      <td>...</td>\n",
              "      <td>...</td>\n",
              "      <td>...</td>\n",
              "      <td>...</td>\n",
              "      <td>...</td>\n",
              "      <td>...</td>\n",
              "      <td>...</td>\n",
              "      <td>...</td>\n",
              "      <td>...</td>\n",
              "      <td>...</td>\n",
              "      <td>...</td>\n",
              "    </tr>\n",
              "    <tr>\n",
              "      <th>155</th>\n",
              "      <td>3.53501</td>\n",
              "      <td>0.0</td>\n",
              "      <td>19.58</td>\n",
              "      <td>1</td>\n",
              "      <td>0.871</td>\n",
              "      <td>NaN</td>\n",
              "      <td>82.6</td>\n",
              "      <td>1.7455</td>\n",
              "      <td>5</td>\n",
              "      <td>403</td>\n",
              "      <td>14.7</td>\n",
              "      <td>88.01</td>\n",
              "      <td>15.02</td>\n",
              "      <td>15.6</td>\n",
              "    </tr>\n",
              "    <tr>\n",
              "      <th>423</th>\n",
              "      <td>7.05042</td>\n",
              "      <td>0.0</td>\n",
              "      <td>18.10</td>\n",
              "      <td>0</td>\n",
              "      <td>0.614</td>\n",
              "      <td>6.103</td>\n",
              "      <td>85.1</td>\n",
              "      <td>2.0218</td>\n",
              "      <td>24</td>\n",
              "      <td>666</td>\n",
              "      <td>20.2</td>\n",
              "      <td>2.52</td>\n",
              "      <td>23.29</td>\n",
              "      <td>13.4</td>\n",
              "    </tr>\n",
              "    <tr>\n",
              "      <th>98</th>\n",
              "      <td>0.08187</td>\n",
              "      <td>0.0</td>\n",
              "      <td>2.89</td>\n",
              "      <td>0</td>\n",
              "      <td>0.445</td>\n",
              "      <td>7.820</td>\n",
              "      <td>36.9</td>\n",
              "      <td>3.4952</td>\n",
              "      <td>2</td>\n",
              "      <td>276</td>\n",
              "      <td>18.0</td>\n",
              "      <td>393.53</td>\n",
              "      <td>3.57</td>\n",
              "      <td>43.8</td>\n",
              "    </tr>\n",
              "    <tr>\n",
              "      <th>455</th>\n",
              "      <td>4.75237</td>\n",
              "      <td>0.0</td>\n",
              "      <td>18.10</td>\n",
              "      <td>0</td>\n",
              "      <td>0.713</td>\n",
              "      <td>6.525</td>\n",
              "      <td>86.5</td>\n",
              "      <td>2.4358</td>\n",
              "      <td>24</td>\n",
              "      <td>666</td>\n",
              "      <td>20.2</td>\n",
              "      <td>50.92</td>\n",
              "      <td>18.13</td>\n",
              "      <td>14.1</td>\n",
              "    </tr>\n",
              "    <tr>\n",
              "      <th>216</th>\n",
              "      <td>0.04560</td>\n",
              "      <td>0.0</td>\n",
              "      <td>13.89</td>\n",
              "      <td>1</td>\n",
              "      <td>0.550</td>\n",
              "      <td>5.888</td>\n",
              "      <td>56.0</td>\n",
              "      <td>3.1121</td>\n",
              "      <td>5</td>\n",
              "      <td>276</td>\n",
              "      <td>16.4</td>\n",
              "      <td>392.80</td>\n",
              "      <td>13.51</td>\n",
              "      <td>23.3</td>\n",
              "    </tr>\n",
              "  </tbody>\n",
              "</table>\n",
              "<p>404 rows × 14 columns</p>\n",
              "</div>\n",
              "      <button class=\"colab-df-convert\" onclick=\"convertToInteractive('df-d058b8f0-b076-4da5-9d55-63e5dafe855f')\"\n",
              "              title=\"Convert this dataframe to an interactive table.\"\n",
              "              style=\"display:none;\">\n",
              "        \n",
              "  <svg xmlns=\"http://www.w3.org/2000/svg\" height=\"24px\"viewBox=\"0 0 24 24\"\n",
              "       width=\"24px\">\n",
              "    <path d=\"M0 0h24v24H0V0z\" fill=\"none\"/>\n",
              "    <path d=\"M18.56 5.44l.94 2.06.94-2.06 2.06-.94-2.06-.94-.94-2.06-.94 2.06-2.06.94zm-11 1L8.5 8.5l.94-2.06 2.06-.94-2.06-.94L8.5 2.5l-.94 2.06-2.06.94zm10 10l.94 2.06.94-2.06 2.06-.94-2.06-.94-.94-2.06-.94 2.06-2.06.94z\"/><path d=\"M17.41 7.96l-1.37-1.37c-.4-.4-.92-.59-1.43-.59-.52 0-1.04.2-1.43.59L10.3 9.45l-7.72 7.72c-.78.78-.78 2.05 0 2.83L4 21.41c.39.39.9.59 1.41.59.51 0 1.02-.2 1.41-.59l7.78-7.78 2.81-2.81c.8-.78.8-2.07 0-2.86zM5.41 20L4 18.59l7.72-7.72 1.47 1.35L5.41 20z\"/>\n",
              "  </svg>\n",
              "      </button>\n",
              "      \n",
              "  <style>\n",
              "    .colab-df-container {\n",
              "      display:flex;\n",
              "      flex-wrap:wrap;\n",
              "      gap: 12px;\n",
              "    }\n",
              "\n",
              "    .colab-df-convert {\n",
              "      background-color: #E8F0FE;\n",
              "      border: none;\n",
              "      border-radius: 50%;\n",
              "      cursor: pointer;\n",
              "      display: none;\n",
              "      fill: #1967D2;\n",
              "      height: 32px;\n",
              "      padding: 0 0 0 0;\n",
              "      width: 32px;\n",
              "    }\n",
              "\n",
              "    .colab-df-convert:hover {\n",
              "      background-color: #E2EBFA;\n",
              "      box-shadow: 0px 1px 2px rgba(60, 64, 67, 0.3), 0px 1px 3px 1px rgba(60, 64, 67, 0.15);\n",
              "      fill: #174EA6;\n",
              "    }\n",
              "\n",
              "    [theme=dark] .colab-df-convert {\n",
              "      background-color: #3B4455;\n",
              "      fill: #D2E3FC;\n",
              "    }\n",
              "\n",
              "    [theme=dark] .colab-df-convert:hover {\n",
              "      background-color: #434B5C;\n",
              "      box-shadow: 0px 1px 3px 1px rgba(0, 0, 0, 0.15);\n",
              "      filter: drop-shadow(0px 1px 2px rgba(0, 0, 0, 0.3));\n",
              "      fill: #FFFFFF;\n",
              "    }\n",
              "  </style>\n",
              "\n",
              "      <script>\n",
              "        const buttonEl =\n",
              "          document.querySelector('#df-d058b8f0-b076-4da5-9d55-63e5dafe855f button.colab-df-convert');\n",
              "        buttonEl.style.display =\n",
              "          google.colab.kernel.accessAllowed ? 'block' : 'none';\n",
              "\n",
              "        async function convertToInteractive(key) {\n",
              "          const element = document.querySelector('#df-d058b8f0-b076-4da5-9d55-63e5dafe855f');\n",
              "          const dataTable =\n",
              "            await google.colab.kernel.invokeFunction('convertToInteractive',\n",
              "                                                     [key], {});\n",
              "          if (!dataTable) return;\n",
              "\n",
              "          const docLinkHtml = 'Like what you see? Visit the ' +\n",
              "            '<a target=\"_blank\" href=https://colab.research.google.com/notebooks/data_table.ipynb>data table notebook</a>'\n",
              "            + ' to learn more about interactive tables.';\n",
              "          element.innerHTML = '';\n",
              "          dataTable['output_type'] = 'display_data';\n",
              "          await google.colab.output.renderOutput(dataTable, element);\n",
              "          const docLink = document.createElement('div');\n",
              "          docLink.innerHTML = docLinkHtml;\n",
              "          element.appendChild(docLink);\n",
              "        }\n",
              "      </script>\n",
              "    </div>\n",
              "  </div>\n",
              "  "
            ]
          },
          "metadata": {},
          "execution_count": 507
        }
      ]
    },
    {
      "cell_type": "code",
      "source": [
        "#df.plot(kind='scatter', x='tax-PER-ROOM', y='MEDV' ,alpha=0.8)"
      ],
      "metadata": {
        "id": "rl2j6xdvI1AB"
      },
      "execution_count": 508,
      "outputs": []
    },
    {
      "cell_type": "code",
      "source": [
        "#df"
      ],
      "metadata": {
        "id": "eG33xGKigemW"
      },
      "execution_count": 509,
      "outputs": []
    },
    {
      "cell_type": "code",
      "source": [
        "df_label=df['MEDV'].copy()"
      ],
      "metadata": {
        "id": "b5vfGLTwhRqE"
      },
      "execution_count": 510,
      "outputs": []
    },
    {
      "cell_type": "code",
      "source": [
        "df_label.count()"
      ],
      "metadata": {
        "colab": {
          "base_uri": "https://localhost:8080/"
        },
        "id": "cZt25tTuhc2F",
        "outputId": "1fe8c242-14df-4fbf-d6b4-759bdda47bad"
      },
      "execution_count": 511,
      "outputs": [
        {
          "output_type": "execute_result",
          "data": {
            "text/plain": [
              "404"
            ]
          },
          "metadata": {},
          "execution_count": 511
        }
      ]
    },
    {
      "cell_type": "code",
      "source": [
        "df=df.drop('MEDV',axis=1)\n"
      ],
      "metadata": {
        "id": "2flQVeJpe6D_"
      },
      "execution_count": 512,
      "outputs": []
    },
    {
      "cell_type": "code",
      "source": [
        "df"
      ],
      "metadata": {
        "colab": {
          "base_uri": "https://localhost:8080/",
          "height": 423
        },
        "id": "NQeIoP32hYiQ",
        "outputId": "48320944-2e1e-42ee-f095-9efad696bbae"
      },
      "execution_count": 513,
      "outputs": [
        {
          "output_type": "execute_result",
          "data": {
            "text/plain": [
              "        CRIM    ZN  INDUS  CHAS    NOX     RM   AGE     DIS  RAD  TAX  \\\n",
              "254  0.04819  80.0   3.64     0  0.392  6.108  32.0  9.2203    1  315   \n",
              "348  0.01501  80.0   2.01     0  0.435  6.635  29.7  8.3440    4  280   \n",
              "476  4.87141   0.0  18.10     0  0.614  6.484  93.6  2.3053   24  666   \n",
              "321  0.18159   0.0   7.38     0  0.493  6.376  54.3  4.5404    5  287   \n",
              "326  0.30347   0.0   7.38     0  0.493  6.312  28.9  5.4159    5  287   \n",
              "..       ...   ...    ...   ...    ...    ...   ...     ...  ...  ...   \n",
              "155  3.53501   0.0  19.58     1  0.871    NaN  82.6  1.7455    5  403   \n",
              "423  7.05042   0.0  18.10     0  0.614  6.103  85.1  2.0218   24  666   \n",
              "98   0.08187   0.0   2.89     0  0.445  7.820  36.9  3.4952    2  276   \n",
              "455  4.75237   0.0  18.10     0  0.713  6.525  86.5  2.4358   24  666   \n",
              "216  0.04560   0.0  13.89     1  0.550  5.888  56.0  3.1121    5  276   \n",
              "\n",
              "     PTRATIO       B   LSTAT  \n",
              "254     16.4  392.89    6.57  \n",
              "348     17.0  390.94    5.99  \n",
              "476     20.2  396.21   18.68  \n",
              "321     19.6  396.90    6.87  \n",
              "326     19.6  396.90    6.15  \n",
              "..       ...     ...     ...  \n",
              "155     14.7   88.01   15.02  \n",
              "423     20.2    2.52   23.29  \n",
              "98      18.0  393.53    3.57  \n",
              "455     20.2   50.92   18.13  \n",
              "216     16.4  392.80   13.51  \n",
              "\n",
              "[404 rows x 13 columns]"
            ],
            "text/html": [
              "\n",
              "  <div id=\"df-9b1aaaac-6fa5-4a49-926f-5ef2fe85dab2\">\n",
              "    <div class=\"colab-df-container\">\n",
              "      <div>\n",
              "<style scoped>\n",
              "    .dataframe tbody tr th:only-of-type {\n",
              "        vertical-align: middle;\n",
              "    }\n",
              "\n",
              "    .dataframe tbody tr th {\n",
              "        vertical-align: top;\n",
              "    }\n",
              "\n",
              "    .dataframe thead th {\n",
              "        text-align: right;\n",
              "    }\n",
              "</style>\n",
              "<table border=\"1\" class=\"dataframe\">\n",
              "  <thead>\n",
              "    <tr style=\"text-align: right;\">\n",
              "      <th></th>\n",
              "      <th>CRIM</th>\n",
              "      <th>ZN</th>\n",
              "      <th>INDUS</th>\n",
              "      <th>CHAS</th>\n",
              "      <th>NOX</th>\n",
              "      <th>RM</th>\n",
              "      <th>AGE</th>\n",
              "      <th>DIS</th>\n",
              "      <th>RAD</th>\n",
              "      <th>TAX</th>\n",
              "      <th>PTRATIO</th>\n",
              "      <th>B</th>\n",
              "      <th>LSTAT</th>\n",
              "    </tr>\n",
              "  </thead>\n",
              "  <tbody>\n",
              "    <tr>\n",
              "      <th>254</th>\n",
              "      <td>0.04819</td>\n",
              "      <td>80.0</td>\n",
              "      <td>3.64</td>\n",
              "      <td>0</td>\n",
              "      <td>0.392</td>\n",
              "      <td>6.108</td>\n",
              "      <td>32.0</td>\n",
              "      <td>9.2203</td>\n",
              "      <td>1</td>\n",
              "      <td>315</td>\n",
              "      <td>16.4</td>\n",
              "      <td>392.89</td>\n",
              "      <td>6.57</td>\n",
              "    </tr>\n",
              "    <tr>\n",
              "      <th>348</th>\n",
              "      <td>0.01501</td>\n",
              "      <td>80.0</td>\n",
              "      <td>2.01</td>\n",
              "      <td>0</td>\n",
              "      <td>0.435</td>\n",
              "      <td>6.635</td>\n",
              "      <td>29.7</td>\n",
              "      <td>8.3440</td>\n",
              "      <td>4</td>\n",
              "      <td>280</td>\n",
              "      <td>17.0</td>\n",
              "      <td>390.94</td>\n",
              "      <td>5.99</td>\n",
              "    </tr>\n",
              "    <tr>\n",
              "      <th>476</th>\n",
              "      <td>4.87141</td>\n",
              "      <td>0.0</td>\n",
              "      <td>18.10</td>\n",
              "      <td>0</td>\n",
              "      <td>0.614</td>\n",
              "      <td>6.484</td>\n",
              "      <td>93.6</td>\n",
              "      <td>2.3053</td>\n",
              "      <td>24</td>\n",
              "      <td>666</td>\n",
              "      <td>20.2</td>\n",
              "      <td>396.21</td>\n",
              "      <td>18.68</td>\n",
              "    </tr>\n",
              "    <tr>\n",
              "      <th>321</th>\n",
              "      <td>0.18159</td>\n",
              "      <td>0.0</td>\n",
              "      <td>7.38</td>\n",
              "      <td>0</td>\n",
              "      <td>0.493</td>\n",
              "      <td>6.376</td>\n",
              "      <td>54.3</td>\n",
              "      <td>4.5404</td>\n",
              "      <td>5</td>\n",
              "      <td>287</td>\n",
              "      <td>19.6</td>\n",
              "      <td>396.90</td>\n",
              "      <td>6.87</td>\n",
              "    </tr>\n",
              "    <tr>\n",
              "      <th>326</th>\n",
              "      <td>0.30347</td>\n",
              "      <td>0.0</td>\n",
              "      <td>7.38</td>\n",
              "      <td>0</td>\n",
              "      <td>0.493</td>\n",
              "      <td>6.312</td>\n",
              "      <td>28.9</td>\n",
              "      <td>5.4159</td>\n",
              "      <td>5</td>\n",
              "      <td>287</td>\n",
              "      <td>19.6</td>\n",
              "      <td>396.90</td>\n",
              "      <td>6.15</td>\n",
              "    </tr>\n",
              "    <tr>\n",
              "      <th>...</th>\n",
              "      <td>...</td>\n",
              "      <td>...</td>\n",
              "      <td>...</td>\n",
              "      <td>...</td>\n",
              "      <td>...</td>\n",
              "      <td>...</td>\n",
              "      <td>...</td>\n",
              "      <td>...</td>\n",
              "      <td>...</td>\n",
              "      <td>...</td>\n",
              "      <td>...</td>\n",
              "      <td>...</td>\n",
              "      <td>...</td>\n",
              "    </tr>\n",
              "    <tr>\n",
              "      <th>155</th>\n",
              "      <td>3.53501</td>\n",
              "      <td>0.0</td>\n",
              "      <td>19.58</td>\n",
              "      <td>1</td>\n",
              "      <td>0.871</td>\n",
              "      <td>NaN</td>\n",
              "      <td>82.6</td>\n",
              "      <td>1.7455</td>\n",
              "      <td>5</td>\n",
              "      <td>403</td>\n",
              "      <td>14.7</td>\n",
              "      <td>88.01</td>\n",
              "      <td>15.02</td>\n",
              "    </tr>\n",
              "    <tr>\n",
              "      <th>423</th>\n",
              "      <td>7.05042</td>\n",
              "      <td>0.0</td>\n",
              "      <td>18.10</td>\n",
              "      <td>0</td>\n",
              "      <td>0.614</td>\n",
              "      <td>6.103</td>\n",
              "      <td>85.1</td>\n",
              "      <td>2.0218</td>\n",
              "      <td>24</td>\n",
              "      <td>666</td>\n",
              "      <td>20.2</td>\n",
              "      <td>2.52</td>\n",
              "      <td>23.29</td>\n",
              "    </tr>\n",
              "    <tr>\n",
              "      <th>98</th>\n",
              "      <td>0.08187</td>\n",
              "      <td>0.0</td>\n",
              "      <td>2.89</td>\n",
              "      <td>0</td>\n",
              "      <td>0.445</td>\n",
              "      <td>7.820</td>\n",
              "      <td>36.9</td>\n",
              "      <td>3.4952</td>\n",
              "      <td>2</td>\n",
              "      <td>276</td>\n",
              "      <td>18.0</td>\n",
              "      <td>393.53</td>\n",
              "      <td>3.57</td>\n",
              "    </tr>\n",
              "    <tr>\n",
              "      <th>455</th>\n",
              "      <td>4.75237</td>\n",
              "      <td>0.0</td>\n",
              "      <td>18.10</td>\n",
              "      <td>0</td>\n",
              "      <td>0.713</td>\n",
              "      <td>6.525</td>\n",
              "      <td>86.5</td>\n",
              "      <td>2.4358</td>\n",
              "      <td>24</td>\n",
              "      <td>666</td>\n",
              "      <td>20.2</td>\n",
              "      <td>50.92</td>\n",
              "      <td>18.13</td>\n",
              "    </tr>\n",
              "    <tr>\n",
              "      <th>216</th>\n",
              "      <td>0.04560</td>\n",
              "      <td>0.0</td>\n",
              "      <td>13.89</td>\n",
              "      <td>1</td>\n",
              "      <td>0.550</td>\n",
              "      <td>5.888</td>\n",
              "      <td>56.0</td>\n",
              "      <td>3.1121</td>\n",
              "      <td>5</td>\n",
              "      <td>276</td>\n",
              "      <td>16.4</td>\n",
              "      <td>392.80</td>\n",
              "      <td>13.51</td>\n",
              "    </tr>\n",
              "  </tbody>\n",
              "</table>\n",
              "<p>404 rows × 13 columns</p>\n",
              "</div>\n",
              "      <button class=\"colab-df-convert\" onclick=\"convertToInteractive('df-9b1aaaac-6fa5-4a49-926f-5ef2fe85dab2')\"\n",
              "              title=\"Convert this dataframe to an interactive table.\"\n",
              "              style=\"display:none;\">\n",
              "        \n",
              "  <svg xmlns=\"http://www.w3.org/2000/svg\" height=\"24px\"viewBox=\"0 0 24 24\"\n",
              "       width=\"24px\">\n",
              "    <path d=\"M0 0h24v24H0V0z\" fill=\"none\"/>\n",
              "    <path d=\"M18.56 5.44l.94 2.06.94-2.06 2.06-.94-2.06-.94-.94-2.06-.94 2.06-2.06.94zm-11 1L8.5 8.5l.94-2.06 2.06-.94-2.06-.94L8.5 2.5l-.94 2.06-2.06.94zm10 10l.94 2.06.94-2.06 2.06-.94-2.06-.94-.94-2.06-.94 2.06-2.06.94z\"/><path d=\"M17.41 7.96l-1.37-1.37c-.4-.4-.92-.59-1.43-.59-.52 0-1.04.2-1.43.59L10.3 9.45l-7.72 7.72c-.78.78-.78 2.05 0 2.83L4 21.41c.39.39.9.59 1.41.59.51 0 1.02-.2 1.41-.59l7.78-7.78 2.81-2.81c.8-.78.8-2.07 0-2.86zM5.41 20L4 18.59l7.72-7.72 1.47 1.35L5.41 20z\"/>\n",
              "  </svg>\n",
              "      </button>\n",
              "      \n",
              "  <style>\n",
              "    .colab-df-container {\n",
              "      display:flex;\n",
              "      flex-wrap:wrap;\n",
              "      gap: 12px;\n",
              "    }\n",
              "\n",
              "    .colab-df-convert {\n",
              "      background-color: #E8F0FE;\n",
              "      border: none;\n",
              "      border-radius: 50%;\n",
              "      cursor: pointer;\n",
              "      display: none;\n",
              "      fill: #1967D2;\n",
              "      height: 32px;\n",
              "      padding: 0 0 0 0;\n",
              "      width: 32px;\n",
              "    }\n",
              "\n",
              "    .colab-df-convert:hover {\n",
              "      background-color: #E2EBFA;\n",
              "      box-shadow: 0px 1px 2px rgba(60, 64, 67, 0.3), 0px 1px 3px 1px rgba(60, 64, 67, 0.15);\n",
              "      fill: #174EA6;\n",
              "    }\n",
              "\n",
              "    [theme=dark] .colab-df-convert {\n",
              "      background-color: #3B4455;\n",
              "      fill: #D2E3FC;\n",
              "    }\n",
              "\n",
              "    [theme=dark] .colab-df-convert:hover {\n",
              "      background-color: #434B5C;\n",
              "      box-shadow: 0px 1px 3px 1px rgba(0, 0, 0, 0.15);\n",
              "      filter: drop-shadow(0px 1px 2px rgba(0, 0, 0, 0.3));\n",
              "      fill: #FFFFFF;\n",
              "    }\n",
              "  </style>\n",
              "\n",
              "      <script>\n",
              "        const buttonEl =\n",
              "          document.querySelector('#df-9b1aaaac-6fa5-4a49-926f-5ef2fe85dab2 button.colab-df-convert');\n",
              "        buttonEl.style.display =\n",
              "          google.colab.kernel.accessAllowed ? 'block' : 'none';\n",
              "\n",
              "        async function convertToInteractive(key) {\n",
              "          const element = document.querySelector('#df-9b1aaaac-6fa5-4a49-926f-5ef2fe85dab2');\n",
              "          const dataTable =\n",
              "            await google.colab.kernel.invokeFunction('convertToInteractive',\n",
              "                                                     [key], {});\n",
              "          if (!dataTable) return;\n",
              "\n",
              "          const docLinkHtml = 'Like what you see? Visit the ' +\n",
              "            '<a target=\"_blank\" href=https://colab.research.google.com/notebooks/data_table.ipynb>data table notebook</a>'\n",
              "            + ' to learn more about interactive tables.';\n",
              "          element.innerHTML = '';\n",
              "          dataTable['output_type'] = 'display_data';\n",
              "          await google.colab.output.renderOutput(dataTable, element);\n",
              "          const docLink = document.createElement('div');\n",
              "          docLink.innerHTML = docLinkHtml;\n",
              "          element.appendChild(docLink);\n",
              "        }\n",
              "      </script>\n",
              "    </div>\n",
              "  </div>\n",
              "  "
            ]
          },
          "metadata": {},
          "execution_count": 513
        }
      ]
    },
    {
      "cell_type": "markdown",
      "source": [
        "# **missing values**"
      ],
      "metadata": {
        "id": "McOkdVUfhDEk"
      }
    },
    {
      "cell_type": "code",
      "source": [
        "#drop the data points, since the datapoints are very less so we drop it\n",
        "#remove the column but if the significance of attribute is large so we can't drop it\n",
        "#replace null value to some other value like mean"
      ],
      "metadata": {
        "id": "1cEEbIenhIs9"
      },
      "execution_count": 514,
      "outputs": []
    },
    {
      "cell_type": "markdown",
      "source": [
        "**Remove missing value manually**"
      ],
      "metadata": {
        "id": "KkJeya9XtEws"
      }
    },
    {
      "cell_type": "code",
      "source": [
        "a=df.dropna(subset=['RM'])\n",
        "a.shape"
      ],
      "metadata": {
        "colab": {
          "base_uri": "https://localhost:8080/"
        },
        "id": "ql6xWjC5x-hV",
        "outputId": "79a29783-1b29-468e-c346-8568c5f50aaf"
      },
      "execution_count": 515,
      "outputs": [
        {
          "output_type": "execute_result",
          "data": {
            "text/plain": [
              "(398, 13)"
            ]
          },
          "metadata": {},
          "execution_count": 515
        }
      ]
    },
    {
      "cell_type": "code",
      "source": [
        "a=df.drop(['RM'], axis=1)\n",
        "a.shape"
      ],
      "metadata": {
        "colab": {
          "base_uri": "https://localhost:8080/"
        },
        "id": "MxSXTRKVzuZy",
        "outputId": "c48ed98e-b12b-48d9-9ed4-e94929fe3caa"
      },
      "execution_count": 516,
      "outputs": [
        {
          "output_type": "execute_result",
          "data": {
            "text/plain": [
              "(404, 12)"
            ]
          },
          "metadata": {},
          "execution_count": 516
        }
      ]
    },
    {
      "cell_type": "code",
      "source": [
        "#median=df['RM'].median()"
      ],
      "metadata": {
        "id": "sTy3Sy_6z7_Z"
      },
      "execution_count": 517,
      "outputs": []
    },
    {
      "cell_type": "code",
      "source": [
        "#median"
      ],
      "metadata": {
        "id": "B1T64WHq0yKt"
      },
      "execution_count": 518,
      "outputs": []
    },
    {
      "cell_type": "code",
      "source": [
        "#df=df['RM'].fillna(median)"
      ],
      "metadata": {
        "id": "d5eQLD5709H7"
      },
      "execution_count": 519,
      "outputs": []
    },
    {
      "cell_type": "code",
      "source": [
        "df"
      ],
      "metadata": {
        "colab": {
          "base_uri": "https://localhost:8080/",
          "height": 423
        },
        "id": "OLxrnaC61KiL",
        "outputId": "b61a50f2-af96-40ff-ac60-dd80da5e4fc6"
      },
      "execution_count": 520,
      "outputs": [
        {
          "output_type": "execute_result",
          "data": {
            "text/plain": [
              "        CRIM    ZN  INDUS  CHAS    NOX     RM   AGE     DIS  RAD  TAX  \\\n",
              "254  0.04819  80.0   3.64     0  0.392  6.108  32.0  9.2203    1  315   \n",
              "348  0.01501  80.0   2.01     0  0.435  6.635  29.7  8.3440    4  280   \n",
              "476  4.87141   0.0  18.10     0  0.614  6.484  93.6  2.3053   24  666   \n",
              "321  0.18159   0.0   7.38     0  0.493  6.376  54.3  4.5404    5  287   \n",
              "326  0.30347   0.0   7.38     0  0.493  6.312  28.9  5.4159    5  287   \n",
              "..       ...   ...    ...   ...    ...    ...   ...     ...  ...  ...   \n",
              "155  3.53501   0.0  19.58     1  0.871    NaN  82.6  1.7455    5  403   \n",
              "423  7.05042   0.0  18.10     0  0.614  6.103  85.1  2.0218   24  666   \n",
              "98   0.08187   0.0   2.89     0  0.445  7.820  36.9  3.4952    2  276   \n",
              "455  4.75237   0.0  18.10     0  0.713  6.525  86.5  2.4358   24  666   \n",
              "216  0.04560   0.0  13.89     1  0.550  5.888  56.0  3.1121    5  276   \n",
              "\n",
              "     PTRATIO       B   LSTAT  \n",
              "254     16.4  392.89    6.57  \n",
              "348     17.0  390.94    5.99  \n",
              "476     20.2  396.21   18.68  \n",
              "321     19.6  396.90    6.87  \n",
              "326     19.6  396.90    6.15  \n",
              "..       ...     ...     ...  \n",
              "155     14.7   88.01   15.02  \n",
              "423     20.2    2.52   23.29  \n",
              "98      18.0  393.53    3.57  \n",
              "455     20.2   50.92   18.13  \n",
              "216     16.4  392.80   13.51  \n",
              "\n",
              "[404 rows x 13 columns]"
            ],
            "text/html": [
              "\n",
              "  <div id=\"df-31adf4c1-0f4e-4acb-ae70-88c406105d9c\">\n",
              "    <div class=\"colab-df-container\">\n",
              "      <div>\n",
              "<style scoped>\n",
              "    .dataframe tbody tr th:only-of-type {\n",
              "        vertical-align: middle;\n",
              "    }\n",
              "\n",
              "    .dataframe tbody tr th {\n",
              "        vertical-align: top;\n",
              "    }\n",
              "\n",
              "    .dataframe thead th {\n",
              "        text-align: right;\n",
              "    }\n",
              "</style>\n",
              "<table border=\"1\" class=\"dataframe\">\n",
              "  <thead>\n",
              "    <tr style=\"text-align: right;\">\n",
              "      <th></th>\n",
              "      <th>CRIM</th>\n",
              "      <th>ZN</th>\n",
              "      <th>INDUS</th>\n",
              "      <th>CHAS</th>\n",
              "      <th>NOX</th>\n",
              "      <th>RM</th>\n",
              "      <th>AGE</th>\n",
              "      <th>DIS</th>\n",
              "      <th>RAD</th>\n",
              "      <th>TAX</th>\n",
              "      <th>PTRATIO</th>\n",
              "      <th>B</th>\n",
              "      <th>LSTAT</th>\n",
              "    </tr>\n",
              "  </thead>\n",
              "  <tbody>\n",
              "    <tr>\n",
              "      <th>254</th>\n",
              "      <td>0.04819</td>\n",
              "      <td>80.0</td>\n",
              "      <td>3.64</td>\n",
              "      <td>0</td>\n",
              "      <td>0.392</td>\n",
              "      <td>6.108</td>\n",
              "      <td>32.0</td>\n",
              "      <td>9.2203</td>\n",
              "      <td>1</td>\n",
              "      <td>315</td>\n",
              "      <td>16.4</td>\n",
              "      <td>392.89</td>\n",
              "      <td>6.57</td>\n",
              "    </tr>\n",
              "    <tr>\n",
              "      <th>348</th>\n",
              "      <td>0.01501</td>\n",
              "      <td>80.0</td>\n",
              "      <td>2.01</td>\n",
              "      <td>0</td>\n",
              "      <td>0.435</td>\n",
              "      <td>6.635</td>\n",
              "      <td>29.7</td>\n",
              "      <td>8.3440</td>\n",
              "      <td>4</td>\n",
              "      <td>280</td>\n",
              "      <td>17.0</td>\n",
              "      <td>390.94</td>\n",
              "      <td>5.99</td>\n",
              "    </tr>\n",
              "    <tr>\n",
              "      <th>476</th>\n",
              "      <td>4.87141</td>\n",
              "      <td>0.0</td>\n",
              "      <td>18.10</td>\n",
              "      <td>0</td>\n",
              "      <td>0.614</td>\n",
              "      <td>6.484</td>\n",
              "      <td>93.6</td>\n",
              "      <td>2.3053</td>\n",
              "      <td>24</td>\n",
              "      <td>666</td>\n",
              "      <td>20.2</td>\n",
              "      <td>396.21</td>\n",
              "      <td>18.68</td>\n",
              "    </tr>\n",
              "    <tr>\n",
              "      <th>321</th>\n",
              "      <td>0.18159</td>\n",
              "      <td>0.0</td>\n",
              "      <td>7.38</td>\n",
              "      <td>0</td>\n",
              "      <td>0.493</td>\n",
              "      <td>6.376</td>\n",
              "      <td>54.3</td>\n",
              "      <td>4.5404</td>\n",
              "      <td>5</td>\n",
              "      <td>287</td>\n",
              "      <td>19.6</td>\n",
              "      <td>396.90</td>\n",
              "      <td>6.87</td>\n",
              "    </tr>\n",
              "    <tr>\n",
              "      <th>326</th>\n",
              "      <td>0.30347</td>\n",
              "      <td>0.0</td>\n",
              "      <td>7.38</td>\n",
              "      <td>0</td>\n",
              "      <td>0.493</td>\n",
              "      <td>6.312</td>\n",
              "      <td>28.9</td>\n",
              "      <td>5.4159</td>\n",
              "      <td>5</td>\n",
              "      <td>287</td>\n",
              "      <td>19.6</td>\n",
              "      <td>396.90</td>\n",
              "      <td>6.15</td>\n",
              "    </tr>\n",
              "    <tr>\n",
              "      <th>...</th>\n",
              "      <td>...</td>\n",
              "      <td>...</td>\n",
              "      <td>...</td>\n",
              "      <td>...</td>\n",
              "      <td>...</td>\n",
              "      <td>...</td>\n",
              "      <td>...</td>\n",
              "      <td>...</td>\n",
              "      <td>...</td>\n",
              "      <td>...</td>\n",
              "      <td>...</td>\n",
              "      <td>...</td>\n",
              "      <td>...</td>\n",
              "    </tr>\n",
              "    <tr>\n",
              "      <th>155</th>\n",
              "      <td>3.53501</td>\n",
              "      <td>0.0</td>\n",
              "      <td>19.58</td>\n",
              "      <td>1</td>\n",
              "      <td>0.871</td>\n",
              "      <td>NaN</td>\n",
              "      <td>82.6</td>\n",
              "      <td>1.7455</td>\n",
              "      <td>5</td>\n",
              "      <td>403</td>\n",
              "      <td>14.7</td>\n",
              "      <td>88.01</td>\n",
              "      <td>15.02</td>\n",
              "    </tr>\n",
              "    <tr>\n",
              "      <th>423</th>\n",
              "      <td>7.05042</td>\n",
              "      <td>0.0</td>\n",
              "      <td>18.10</td>\n",
              "      <td>0</td>\n",
              "      <td>0.614</td>\n",
              "      <td>6.103</td>\n",
              "      <td>85.1</td>\n",
              "      <td>2.0218</td>\n",
              "      <td>24</td>\n",
              "      <td>666</td>\n",
              "      <td>20.2</td>\n",
              "      <td>2.52</td>\n",
              "      <td>23.29</td>\n",
              "    </tr>\n",
              "    <tr>\n",
              "      <th>98</th>\n",
              "      <td>0.08187</td>\n",
              "      <td>0.0</td>\n",
              "      <td>2.89</td>\n",
              "      <td>0</td>\n",
              "      <td>0.445</td>\n",
              "      <td>7.820</td>\n",
              "      <td>36.9</td>\n",
              "      <td>3.4952</td>\n",
              "      <td>2</td>\n",
              "      <td>276</td>\n",
              "      <td>18.0</td>\n",
              "      <td>393.53</td>\n",
              "      <td>3.57</td>\n",
              "    </tr>\n",
              "    <tr>\n",
              "      <th>455</th>\n",
              "      <td>4.75237</td>\n",
              "      <td>0.0</td>\n",
              "      <td>18.10</td>\n",
              "      <td>0</td>\n",
              "      <td>0.713</td>\n",
              "      <td>6.525</td>\n",
              "      <td>86.5</td>\n",
              "      <td>2.4358</td>\n",
              "      <td>24</td>\n",
              "      <td>666</td>\n",
              "      <td>20.2</td>\n",
              "      <td>50.92</td>\n",
              "      <td>18.13</td>\n",
              "    </tr>\n",
              "    <tr>\n",
              "      <th>216</th>\n",
              "      <td>0.04560</td>\n",
              "      <td>0.0</td>\n",
              "      <td>13.89</td>\n",
              "      <td>1</td>\n",
              "      <td>0.550</td>\n",
              "      <td>5.888</td>\n",
              "      <td>56.0</td>\n",
              "      <td>3.1121</td>\n",
              "      <td>5</td>\n",
              "      <td>276</td>\n",
              "      <td>16.4</td>\n",
              "      <td>392.80</td>\n",
              "      <td>13.51</td>\n",
              "    </tr>\n",
              "  </tbody>\n",
              "</table>\n",
              "<p>404 rows × 13 columns</p>\n",
              "</div>\n",
              "      <button class=\"colab-df-convert\" onclick=\"convertToInteractive('df-31adf4c1-0f4e-4acb-ae70-88c406105d9c')\"\n",
              "              title=\"Convert this dataframe to an interactive table.\"\n",
              "              style=\"display:none;\">\n",
              "        \n",
              "  <svg xmlns=\"http://www.w3.org/2000/svg\" height=\"24px\"viewBox=\"0 0 24 24\"\n",
              "       width=\"24px\">\n",
              "    <path d=\"M0 0h24v24H0V0z\" fill=\"none\"/>\n",
              "    <path d=\"M18.56 5.44l.94 2.06.94-2.06 2.06-.94-2.06-.94-.94-2.06-.94 2.06-2.06.94zm-11 1L8.5 8.5l.94-2.06 2.06-.94-2.06-.94L8.5 2.5l-.94 2.06-2.06.94zm10 10l.94 2.06.94-2.06 2.06-.94-2.06-.94-.94-2.06-.94 2.06-2.06.94z\"/><path d=\"M17.41 7.96l-1.37-1.37c-.4-.4-.92-.59-1.43-.59-.52 0-1.04.2-1.43.59L10.3 9.45l-7.72 7.72c-.78.78-.78 2.05 0 2.83L4 21.41c.39.39.9.59 1.41.59.51 0 1.02-.2 1.41-.59l7.78-7.78 2.81-2.81c.8-.78.8-2.07 0-2.86zM5.41 20L4 18.59l7.72-7.72 1.47 1.35L5.41 20z\"/>\n",
              "  </svg>\n",
              "      </button>\n",
              "      \n",
              "  <style>\n",
              "    .colab-df-container {\n",
              "      display:flex;\n",
              "      flex-wrap:wrap;\n",
              "      gap: 12px;\n",
              "    }\n",
              "\n",
              "    .colab-df-convert {\n",
              "      background-color: #E8F0FE;\n",
              "      border: none;\n",
              "      border-radius: 50%;\n",
              "      cursor: pointer;\n",
              "      display: none;\n",
              "      fill: #1967D2;\n",
              "      height: 32px;\n",
              "      padding: 0 0 0 0;\n",
              "      width: 32px;\n",
              "    }\n",
              "\n",
              "    .colab-df-convert:hover {\n",
              "      background-color: #E2EBFA;\n",
              "      box-shadow: 0px 1px 2px rgba(60, 64, 67, 0.3), 0px 1px 3px 1px rgba(60, 64, 67, 0.15);\n",
              "      fill: #174EA6;\n",
              "    }\n",
              "\n",
              "    [theme=dark] .colab-df-convert {\n",
              "      background-color: #3B4455;\n",
              "      fill: #D2E3FC;\n",
              "    }\n",
              "\n",
              "    [theme=dark] .colab-df-convert:hover {\n",
              "      background-color: #434B5C;\n",
              "      box-shadow: 0px 1px 3px 1px rgba(0, 0, 0, 0.15);\n",
              "      filter: drop-shadow(0px 1px 2px rgba(0, 0, 0, 0.3));\n",
              "      fill: #FFFFFF;\n",
              "    }\n",
              "  </style>\n",
              "\n",
              "      <script>\n",
              "        const buttonEl =\n",
              "          document.querySelector('#df-31adf4c1-0f4e-4acb-ae70-88c406105d9c button.colab-df-convert');\n",
              "        buttonEl.style.display =\n",
              "          google.colab.kernel.accessAllowed ? 'block' : 'none';\n",
              "\n",
              "        async function convertToInteractive(key) {\n",
              "          const element = document.querySelector('#df-31adf4c1-0f4e-4acb-ae70-88c406105d9c');\n",
              "          const dataTable =\n",
              "            await google.colab.kernel.invokeFunction('convertToInteractive',\n",
              "                                                     [key], {});\n",
              "          if (!dataTable) return;\n",
              "\n",
              "          const docLinkHtml = 'Like what you see? Visit the ' +\n",
              "            '<a target=\"_blank\" href=https://colab.research.google.com/notebooks/data_table.ipynb>data table notebook</a>'\n",
              "            + ' to learn more about interactive tables.';\n",
              "          element.innerHTML = '';\n",
              "          dataTable['output_type'] = 'display_data';\n",
              "          await google.colab.output.renderOutput(dataTable, element);\n",
              "          const docLink = document.createElement('div');\n",
              "          docLink.innerHTML = docLinkHtml;\n",
              "          element.appendChild(docLink);\n",
              "        }\n",
              "      </script>\n",
              "    </div>\n",
              "  </div>\n",
              "  "
            ]
          },
          "metadata": {},
          "execution_count": 520
        }
      ]
    },
    {
      "cell_type": "markdown",
      "source": [
        " **remove missing value with help of library**"
      ],
      "metadata": {
        "id": "3N_PcFJBtONm"
      }
    },
    {
      "cell_type": "code",
      "source": [
        "from sklearn.impute  import SimpleImputer\n",
        "imputer=SimpleImputer(strategy='median')\n",
        "imputer.fit(df)"
      ],
      "metadata": {
        "colab": {
          "base_uri": "https://localhost:8080/"
        },
        "id": "Zn0VuC0V3HsO",
        "outputId": "5f1268cf-ee0e-4b09-c370-cec9dedc27c0"
      },
      "execution_count": 521,
      "outputs": [
        {
          "output_type": "execute_result",
          "data": {
            "text/plain": [
              "SimpleImputer(strategy='median')"
            ]
          },
          "metadata": {},
          "execution_count": 521
        }
      ]
    },
    {
      "cell_type": "code",
      "source": [
        "x=imputer.transform(df)\n",
        "df_trans=pd.DataFrame(x ,columns=df.columns)"
      ],
      "metadata": {
        "id": "DI6smpL67izx"
      },
      "execution_count": 522,
      "outputs": []
    },
    {
      "cell_type": "code",
      "source": [
        "df_trans.info()"
      ],
      "metadata": {
        "colab": {
          "base_uri": "https://localhost:8080/"
        },
        "id": "_vBWPv015Co9",
        "outputId": "d3e522f2-7e42-4070-f984-5bd932a120eb"
      },
      "execution_count": 523,
      "outputs": [
        {
          "output_type": "stream",
          "name": "stdout",
          "text": [
            "<class 'pandas.core.frame.DataFrame'>\n",
            "RangeIndex: 404 entries, 0 to 403\n",
            "Data columns (total 13 columns):\n",
            " #   Column   Non-Null Count  Dtype  \n",
            "---  ------   --------------  -----  \n",
            " 0   CRIM     404 non-null    float64\n",
            " 1   ZN       404 non-null    float64\n",
            " 2   INDUS    404 non-null    float64\n",
            " 3   CHAS     404 non-null    float64\n",
            " 4   NOX      404 non-null    float64\n",
            " 5   RM       404 non-null    float64\n",
            " 6   AGE      404 non-null    float64\n",
            " 7   DIS      404 non-null    float64\n",
            " 8   RAD      404 non-null    float64\n",
            " 9   TAX      404 non-null    float64\n",
            " 10  PTRATIO  404 non-null    float64\n",
            " 11  B        404 non-null    float64\n",
            " 12   LSTAT   404 non-null    float64\n",
            "dtypes: float64(13)\n",
            "memory usage: 41.2 KB\n"
          ]
        }
      ]
    },
    {
      "cell_type": "markdown",
      "source": [
        "# **scikit-learn**"
      ],
      "metadata": {
        "id": "hlTCilSmW1Me"
      }
    },
    {
      "cell_type": "markdown",
      "source": [
        "![image.png](data:image/png;base64,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)"
      ],
      "metadata": {
        "id": "Gz1s8Cg-WgGB"
      }
    },
    {
      "cell_type": "markdown",
      "source": [
        "# **CREATING PIPELINE**"
      ],
      "metadata": {
        "id": "hFLfWNjHX5ip"
      }
    },
    {
      "cell_type": "markdown",
      "source": [
        "#  It can be used to automate a machine learning workflow. The pipeline can involve pre-processing, feature selection, classification/regression, and post-processing.New Section"
      ],
      "metadata": {
        "id": "quDLI0YdX5tp"
      }
    },
    {
      "cell_type": "markdown",
      "source": [
        "Feature scaling\n",
        "1-Min-max scaling(Normalization)\n",
        "  val-min/max-min\n",
        "\n",
        "2-standardization\n",
        " (value--mean)/std\n",
        "\n",
        "here we prefer standization because in normalization if min and max value change so it has some negative impact that why we choose standardarization\n"
      ],
      "metadata": {
        "id": "O3i1f7i46WWU"
      }
    },
    {
      "cell_type": "code",
      "source": [
        "from sklearn.pipeline import Pipeline\n",
        "from sklearn.preprocessing import StandardScaler\n",
        "mypipeline=Pipeline([\n",
        "    ('imputer',SimpleImputer(strategy='median')),\n",
        "    ('std_scalar',StandardScaler())\n",
        "])"
      ],
      "metadata": {
        "id": "PP9Y9cM0Zkm1"
      },
      "execution_count": 524,
      "outputs": []
    },
    {
      "cell_type": "code",
      "source": [
        "df_pipe=mypipeline.fit_transform(df)"
      ],
      "metadata": {
        "id": "jOpk7_i2HG9S"
      },
      "execution_count": 525,
      "outputs": []
    },
    {
      "cell_type": "code",
      "source": [
        "df_pipe"
      ],
      "metadata": {
        "colab": {
          "base_uri": "https://localhost:8080/"
        },
        "id": "Mq4XR7MbJRvM",
        "outputId": "50af1634-5863-4012-f8e1-adf194da6f6b"
      },
      "execution_count": 526,
      "outputs": [
        {
          "output_type": "execute_result",
          "data": {
            "text/plain": [
              "array([[-0.43942006,  3.12628155, -1.12165014, ..., -0.97491834,\n",
              "         0.41164221, -0.86091034],\n",
              "       [-0.44352175,  3.12628155, -1.35893781, ..., -0.69277865,\n",
              "         0.39131918, -0.94116739],\n",
              "       [ 0.15682292, -0.4898311 ,  0.98336806, ...,  0.81196637,\n",
              "         0.44624347,  0.81480158],\n",
              "       ...,\n",
              "       [-0.43525657, -0.4898311 , -1.23083158, ..., -0.22254583,\n",
              "         0.41831233, -1.27603303],\n",
              "       [ 0.14210728, -0.4898311 ,  0.98336806, ...,  0.81196637,\n",
              "        -3.15239177,  0.73869575],\n",
              "       [-0.43974024, -0.4898311 ,  0.37049623, ..., -0.97491834,\n",
              "         0.41070422,  0.09940681]])"
            ]
          },
          "metadata": {},
          "execution_count": 526
        }
      ]
    },
    {
      "cell_type": "markdown",
      "source": [
        "**Selecting a model for real state problem**"
      ],
      "metadata": {
        "id": "fShxy83ih8x1"
      }
    },
    {
      "cell_type": "code",
      "source": [
        "from sklearn.linear_model import LinearRegression\n",
        "from sklearn.tree import DecisionTreeRegressor\n",
        "from sklearn.ensemble import RandomForestRegressor\n",
        "\n",
        "model=RandomForestRegressor()\n",
        "model.fit(df_pipe,df_label)"
      ],
      "metadata": {
        "colab": {
          "base_uri": "https://localhost:8080/"
        },
        "id": "L3Og8NSjiKVP",
        "outputId": "116970e9-3473-4ed5-9d55-caed379aeab6"
      },
      "execution_count": 527,
      "outputs": [
        {
          "output_type": "execute_result",
          "data": {
            "text/plain": [
              "RandomForestRegressor()"
            ]
          },
          "metadata": {},
          "execution_count": 527
        }
      ]
    },
    {
      "cell_type": "code",
      "source": [
        "some_data=df.iloc[:10]                                     #getting the traing data value\n",
        "some_label=df_label.iloc[:10]"
      ],
      "metadata": {
        "id": "8nuznY4a7SpE"
      },
      "execution_count": 528,
      "outputs": []
    },
    {
      "cell_type": "code",
      "source": [
        "some_label"
      ],
      "metadata": {
        "colab": {
          "base_uri": "https://localhost:8080/"
        },
        "id": "sQQ4MYQjCesM",
        "outputId": "bd32b291-247e-4978-c4b5-a4df094e7bb0"
      },
      "execution_count": 529,
      "outputs": [
        {
          "output_type": "execute_result",
          "data": {
            "text/plain": [
              "254    21.9\n",
              "348    24.5\n",
              "476    16.7\n",
              "321    23.1\n",
              "326    23.0\n",
              "411    17.2\n",
              "250    24.4\n",
              "100    27.5\n",
              "429     9.5\n",
              "57     31.6\n",
              "Name: MEDV, dtype: float64"
            ]
          },
          "metadata": {},
          "execution_count": 529
        }
      ]
    },
    {
      "cell_type": "code",
      "source": [
        "df"
      ],
      "metadata": {
        "colab": {
          "base_uri": "https://localhost:8080/",
          "height": 423
        },
        "id": "cN6795hE-TJ_",
        "outputId": "e5c5181e-c24e-4077-daa8-a3c572ea56e7"
      },
      "execution_count": 530,
      "outputs": [
        {
          "output_type": "execute_result",
          "data": {
            "text/plain": [
              "        CRIM    ZN  INDUS  CHAS    NOX     RM   AGE     DIS  RAD  TAX  \\\n",
              "254  0.04819  80.0   3.64     0  0.392  6.108  32.0  9.2203    1  315   \n",
              "348  0.01501  80.0   2.01     0  0.435  6.635  29.7  8.3440    4  280   \n",
              "476  4.87141   0.0  18.10     0  0.614  6.484  93.6  2.3053   24  666   \n",
              "321  0.18159   0.0   7.38     0  0.493  6.376  54.3  4.5404    5  287   \n",
              "326  0.30347   0.0   7.38     0  0.493  6.312  28.9  5.4159    5  287   \n",
              "..       ...   ...    ...   ...    ...    ...   ...     ...  ...  ...   \n",
              "155  3.53501   0.0  19.58     1  0.871    NaN  82.6  1.7455    5  403   \n",
              "423  7.05042   0.0  18.10     0  0.614  6.103  85.1  2.0218   24  666   \n",
              "98   0.08187   0.0   2.89     0  0.445  7.820  36.9  3.4952    2  276   \n",
              "455  4.75237   0.0  18.10     0  0.713  6.525  86.5  2.4358   24  666   \n",
              "216  0.04560   0.0  13.89     1  0.550  5.888  56.0  3.1121    5  276   \n",
              "\n",
              "     PTRATIO       B   LSTAT  \n",
              "254     16.4  392.89    6.57  \n",
              "348     17.0  390.94    5.99  \n",
              "476     20.2  396.21   18.68  \n",
              "321     19.6  396.90    6.87  \n",
              "326     19.6  396.90    6.15  \n",
              "..       ...     ...     ...  \n",
              "155     14.7   88.01   15.02  \n",
              "423     20.2    2.52   23.29  \n",
              "98      18.0  393.53    3.57  \n",
              "455     20.2   50.92   18.13  \n",
              "216     16.4  392.80   13.51  \n",
              "\n",
              "[404 rows x 13 columns]"
            ],
            "text/html": [
              "\n",
              "  <div id=\"df-7d4cf90c-291f-4f05-bc68-93e5e1cf954f\">\n",
              "    <div class=\"colab-df-container\">\n",
              "      <div>\n",
              "<style scoped>\n",
              "    .dataframe tbody tr th:only-of-type {\n",
              "        vertical-align: middle;\n",
              "    }\n",
              "\n",
              "    .dataframe tbody tr th {\n",
              "        vertical-align: top;\n",
              "    }\n",
              "\n",
              "    .dataframe thead th {\n",
              "        text-align: right;\n",
              "    }\n",
              "</style>\n",
              "<table border=\"1\" class=\"dataframe\">\n",
              "  <thead>\n",
              "    <tr style=\"text-align: right;\">\n",
              "      <th></th>\n",
              "      <th>CRIM</th>\n",
              "      <th>ZN</th>\n",
              "      <th>INDUS</th>\n",
              "      <th>CHAS</th>\n",
              "      <th>NOX</th>\n",
              "      <th>RM</th>\n",
              "      <th>AGE</th>\n",
              "      <th>DIS</th>\n",
              "      <th>RAD</th>\n",
              "      <th>TAX</th>\n",
              "      <th>PTRATIO</th>\n",
              "      <th>B</th>\n",
              "      <th>LSTAT</th>\n",
              "    </tr>\n",
              "  </thead>\n",
              "  <tbody>\n",
              "    <tr>\n",
              "      <th>254</th>\n",
              "      <td>0.04819</td>\n",
              "      <td>80.0</td>\n",
              "      <td>3.64</td>\n",
              "      <td>0</td>\n",
              "      <td>0.392</td>\n",
              "      <td>6.108</td>\n",
              "      <td>32.0</td>\n",
              "      <td>9.2203</td>\n",
              "      <td>1</td>\n",
              "      <td>315</td>\n",
              "      <td>16.4</td>\n",
              "      <td>392.89</td>\n",
              "      <td>6.57</td>\n",
              "    </tr>\n",
              "    <tr>\n",
              "      <th>348</th>\n",
              "      <td>0.01501</td>\n",
              "      <td>80.0</td>\n",
              "      <td>2.01</td>\n",
              "      <td>0</td>\n",
              "      <td>0.435</td>\n",
              "      <td>6.635</td>\n",
              "      <td>29.7</td>\n",
              "      <td>8.3440</td>\n",
              "      <td>4</td>\n",
              "      <td>280</td>\n",
              "      <td>17.0</td>\n",
              "      <td>390.94</td>\n",
              "      <td>5.99</td>\n",
              "    </tr>\n",
              "    <tr>\n",
              "      <th>476</th>\n",
              "      <td>4.87141</td>\n",
              "      <td>0.0</td>\n",
              "      <td>18.10</td>\n",
              "      <td>0</td>\n",
              "      <td>0.614</td>\n",
              "      <td>6.484</td>\n",
              "      <td>93.6</td>\n",
              "      <td>2.3053</td>\n",
              "      <td>24</td>\n",
              "      <td>666</td>\n",
              "      <td>20.2</td>\n",
              "      <td>396.21</td>\n",
              "      <td>18.68</td>\n",
              "    </tr>\n",
              "    <tr>\n",
              "      <th>321</th>\n",
              "      <td>0.18159</td>\n",
              "      <td>0.0</td>\n",
              "      <td>7.38</td>\n",
              "      <td>0</td>\n",
              "      <td>0.493</td>\n",
              "      <td>6.376</td>\n",
              "      <td>54.3</td>\n",
              "      <td>4.5404</td>\n",
              "      <td>5</td>\n",
              "      <td>287</td>\n",
              "      <td>19.6</td>\n",
              "      <td>396.90</td>\n",
              "      <td>6.87</td>\n",
              "    </tr>\n",
              "    <tr>\n",
              "      <th>326</th>\n",
              "      <td>0.30347</td>\n",
              "      <td>0.0</td>\n",
              "      <td>7.38</td>\n",
              "      <td>0</td>\n",
              "      <td>0.493</td>\n",
              "      <td>6.312</td>\n",
              "      <td>28.9</td>\n",
              "      <td>5.4159</td>\n",
              "      <td>5</td>\n",
              "      <td>287</td>\n",
              "      <td>19.6</td>\n",
              "      <td>396.90</td>\n",
              "      <td>6.15</td>\n",
              "    </tr>\n",
              "    <tr>\n",
              "      <th>...</th>\n",
              "      <td>...</td>\n",
              "      <td>...</td>\n",
              "      <td>...</td>\n",
              "      <td>...</td>\n",
              "      <td>...</td>\n",
              "      <td>...</td>\n",
              "      <td>...</td>\n",
              "      <td>...</td>\n",
              "      <td>...</td>\n",
              "      <td>...</td>\n",
              "      <td>...</td>\n",
              "      <td>...</td>\n",
              "      <td>...</td>\n",
              "    </tr>\n",
              "    <tr>\n",
              "      <th>155</th>\n",
              "      <td>3.53501</td>\n",
              "      <td>0.0</td>\n",
              "      <td>19.58</td>\n",
              "      <td>1</td>\n",
              "      <td>0.871</td>\n",
              "      <td>NaN</td>\n",
              "      <td>82.6</td>\n",
              "      <td>1.7455</td>\n",
              "      <td>5</td>\n",
              "      <td>403</td>\n",
              "      <td>14.7</td>\n",
              "      <td>88.01</td>\n",
              "      <td>15.02</td>\n",
              "    </tr>\n",
              "    <tr>\n",
              "      <th>423</th>\n",
              "      <td>7.05042</td>\n",
              "      <td>0.0</td>\n",
              "      <td>18.10</td>\n",
              "      <td>0</td>\n",
              "      <td>0.614</td>\n",
              "      <td>6.103</td>\n",
              "      <td>85.1</td>\n",
              "      <td>2.0218</td>\n",
              "      <td>24</td>\n",
              "      <td>666</td>\n",
              "      <td>20.2</td>\n",
              "      <td>2.52</td>\n",
              "      <td>23.29</td>\n",
              "    </tr>\n",
              "    <tr>\n",
              "      <th>98</th>\n",
              "      <td>0.08187</td>\n",
              "      <td>0.0</td>\n",
              "      <td>2.89</td>\n",
              "      <td>0</td>\n",
              "      <td>0.445</td>\n",
              "      <td>7.820</td>\n",
              "      <td>36.9</td>\n",
              "      <td>3.4952</td>\n",
              "      <td>2</td>\n",
              "      <td>276</td>\n",
              "      <td>18.0</td>\n",
              "      <td>393.53</td>\n",
              "      <td>3.57</td>\n",
              "    </tr>\n",
              "    <tr>\n",
              "      <th>455</th>\n",
              "      <td>4.75237</td>\n",
              "      <td>0.0</td>\n",
              "      <td>18.10</td>\n",
              "      <td>0</td>\n",
              "      <td>0.713</td>\n",
              "      <td>6.525</td>\n",
              "      <td>86.5</td>\n",
              "      <td>2.4358</td>\n",
              "      <td>24</td>\n",
              "      <td>666</td>\n",
              "      <td>20.2</td>\n",
              "      <td>50.92</td>\n",
              "      <td>18.13</td>\n",
              "    </tr>\n",
              "    <tr>\n",
              "      <th>216</th>\n",
              "      <td>0.04560</td>\n",
              "      <td>0.0</td>\n",
              "      <td>13.89</td>\n",
              "      <td>1</td>\n",
              "      <td>0.550</td>\n",
              "      <td>5.888</td>\n",
              "      <td>56.0</td>\n",
              "      <td>3.1121</td>\n",
              "      <td>5</td>\n",
              "      <td>276</td>\n",
              "      <td>16.4</td>\n",
              "      <td>392.80</td>\n",
              "      <td>13.51</td>\n",
              "    </tr>\n",
              "  </tbody>\n",
              "</table>\n",
              "<p>404 rows × 13 columns</p>\n",
              "</div>\n",
              "      <button class=\"colab-df-convert\" onclick=\"convertToInteractive('df-7d4cf90c-291f-4f05-bc68-93e5e1cf954f')\"\n",
              "              title=\"Convert this dataframe to an interactive table.\"\n",
              "              style=\"display:none;\">\n",
              "        \n",
              "  <svg xmlns=\"http://www.w3.org/2000/svg\" height=\"24px\"viewBox=\"0 0 24 24\"\n",
              "       width=\"24px\">\n",
              "    <path d=\"M0 0h24v24H0V0z\" fill=\"none\"/>\n",
              "    <path d=\"M18.56 5.44l.94 2.06.94-2.06 2.06-.94-2.06-.94-.94-2.06-.94 2.06-2.06.94zm-11 1L8.5 8.5l.94-2.06 2.06-.94-2.06-.94L8.5 2.5l-.94 2.06-2.06.94zm10 10l.94 2.06.94-2.06 2.06-.94-2.06-.94-.94-2.06-.94 2.06-2.06.94z\"/><path d=\"M17.41 7.96l-1.37-1.37c-.4-.4-.92-.59-1.43-.59-.52 0-1.04.2-1.43.59L10.3 9.45l-7.72 7.72c-.78.78-.78 2.05 0 2.83L4 21.41c.39.39.9.59 1.41.59.51 0 1.02-.2 1.41-.59l7.78-7.78 2.81-2.81c.8-.78.8-2.07 0-2.86zM5.41 20L4 18.59l7.72-7.72 1.47 1.35L5.41 20z\"/>\n",
              "  </svg>\n",
              "      </button>\n",
              "      \n",
              "  <style>\n",
              "    .colab-df-container {\n",
              "      display:flex;\n",
              "      flex-wrap:wrap;\n",
              "      gap: 12px;\n",
              "    }\n",
              "\n",
              "    .colab-df-convert {\n",
              "      background-color: #E8F0FE;\n",
              "      border: none;\n",
              "      border-radius: 50%;\n",
              "      cursor: pointer;\n",
              "      display: none;\n",
              "      fill: #1967D2;\n",
              "      height: 32px;\n",
              "      padding: 0 0 0 0;\n",
              "      width: 32px;\n",
              "    }\n",
              "\n",
              "    .colab-df-convert:hover {\n",
              "      background-color: #E2EBFA;\n",
              "      box-shadow: 0px 1px 2px rgba(60, 64, 67, 0.3), 0px 1px 3px 1px rgba(60, 64, 67, 0.15);\n",
              "      fill: #174EA6;\n",
              "    }\n",
              "\n",
              "    [theme=dark] .colab-df-convert {\n",
              "      background-color: #3B4455;\n",
              "      fill: #D2E3FC;\n",
              "    }\n",
              "\n",
              "    [theme=dark] .colab-df-convert:hover {\n",
              "      background-color: #434B5C;\n",
              "      box-shadow: 0px 1px 3px 1px rgba(0, 0, 0, 0.15);\n",
              "      filter: drop-shadow(0px 1px 2px rgba(0, 0, 0, 0.3));\n",
              "      fill: #FFFFFF;\n",
              "    }\n",
              "  </style>\n",
              "\n",
              "      <script>\n",
              "        const buttonEl =\n",
              "          document.querySelector('#df-7d4cf90c-291f-4f05-bc68-93e5e1cf954f button.colab-df-convert');\n",
              "        buttonEl.style.display =\n",
              "          google.colab.kernel.accessAllowed ? 'block' : 'none';\n",
              "\n",
              "        async function convertToInteractive(key) {\n",
              "          const element = document.querySelector('#df-7d4cf90c-291f-4f05-bc68-93e5e1cf954f');\n",
              "          const dataTable =\n",
              "            await google.colab.kernel.invokeFunction('convertToInteractive',\n",
              "                                                     [key], {});\n",
              "          if (!dataTable) return;\n",
              "\n",
              "          const docLinkHtml = 'Like what you see? Visit the ' +\n",
              "            '<a target=\"_blank\" href=https://colab.research.google.com/notebooks/data_table.ipynb>data table notebook</a>'\n",
              "            + ' to learn more about interactive tables.';\n",
              "          element.innerHTML = '';\n",
              "          dataTable['output_type'] = 'display_data';\n",
              "          await google.colab.output.renderOutput(dataTable, element);\n",
              "          const docLink = document.createElement('div');\n",
              "          docLink.innerHTML = docLinkHtml;\n",
              "          element.appendChild(docLink);\n",
              "        }\n",
              "      </script>\n",
              "    </div>\n",
              "  </div>\n",
              "  "
            ]
          },
          "metadata": {},
          "execution_count": 530
        }
      ]
    },
    {
      "cell_type": "code",
      "source": [
        "prepared_data=mypipeline.transform(some_data)"
      ],
      "metadata": {
        "id": "mUbLLsST7u3q"
      },
      "execution_count": 531,
      "outputs": []
    },
    {
      "cell_type": "code",
      "source": [
        "prepared_data"
      ],
      "metadata": {
        "colab": {
          "base_uri": "https://localhost:8080/"
        },
        "id": "II50JmQuZhZr",
        "outputId": "dcc823bd-602b-4fbf-da91-2de5166ff86d"
      },
      "execution_count": 532,
      "outputs": [
        {
          "output_type": "execute_result",
          "data": {
            "text/plain": [
              "array([[-0.43942006,  3.12628155, -1.12165014, -0.27288841, -1.42262747,\n",
              "        -0.23785628, -1.31238772,  2.61111401, -1.0016859 , -0.5778192 ,\n",
              "        -0.97491834,  0.41164221, -0.86091034],\n",
              "       [-0.44352175,  3.12628155, -1.35893781, -0.27288841, -1.0542567 ,\n",
              "         0.50649954, -1.3938808 ,  2.19312325, -0.65766683, -0.78557904,\n",
              "        -0.69277865,  0.39131918, -0.94116739],\n",
              "       [ 0.15682292, -0.4898311 ,  0.98336806, -0.27288841,  0.47919371,\n",
              "         0.29322112,  0.87020968, -0.68730678,  1.63579367,  1.50571521,\n",
              "         0.81196637,  0.44624347,  0.81480158],\n",
              "       [-0.42292925, -0.4898311 , -0.57719868, -0.27288841, -0.5573845 ,\n",
              "         0.14067761, -0.52225911,  0.37882487, -0.5429938 , -0.74402708,\n",
              "         0.52982668,  0.45343469, -0.81939807],\n",
              "       [-0.40786253, -0.4898311 , -0.57719868, -0.27288841, -0.5573845 ,\n",
              "         0.05028146, -1.42222622,  0.79643404, -0.5429938 , -0.74402708,\n",
              "         0.52982668,  0.45343469, -0.91902752],\n",
              "       [ 1.29156014, -0.4898311 ,  0.98336806, -0.27288841,  0.33355876,\n",
              "         0.53757322,  1.09697304, -1.05831353,  1.63579367,  1.50571521,\n",
              "         0.81196637, -3.31778996,  1.16627212],\n",
              "       [-0.42803349,  0.50459988, -0.79847307, -0.27288841, -1.08852375,\n",
              "         0.29745844, -1.98559146,  1.74126584, -0.31364775, -0.48877927,\n",
              "         0.29471027,  0.44697301, -0.95362107],\n",
              "       [-0.42700004, -0.4898311 , -0.40541988, -0.27288841, -0.32608192,\n",
              "         0.63644401,  0.38479435, -0.46192661, -0.5429938 , -0.16823552,\n",
              "         1.14112934,  0.43113147, -0.46654379],\n",
              "       [ 0.70908958, -0.4898311 ,  0.98336806, -0.27288841,  1.03603325,\n",
              "         0.14632737,  0.94107323, -0.84810181,  1.63579367,  1.50571521,\n",
              "         0.81196637, -3.05025552,  1.56202242],\n",
              "       [-0.44360705,  4.03030971, -1.45938473, -0.27288841, -1.25985899,\n",
              "         0.76215116, -1.01121762,  2.18396494, -0.5429938 , -0.92804294,\n",
              "        -1.586221  ,  0.41174643, -1.22345082]])"
            ]
          },
          "metadata": {},
          "execution_count": 532
        }
      ]
    },
    {
      "cell_type": "code",
      "source": [
        "pred=model.predict(prepared_data)"
      ],
      "metadata": {
        "id": "sdMX4v-HCvGc"
      },
      "execution_count": 533,
      "outputs": []
    },
    {
      "cell_type": "code",
      "source": [
        "list(some_label)"
      ],
      "metadata": {
        "colab": {
          "base_uri": "https://localhost:8080/"
        },
        "id": "dQKIPDBjDF63",
        "outputId": "1d00407f-074a-47dc-a5df-4bf475a8c0b4"
      },
      "execution_count": 534,
      "outputs": [
        {
          "output_type": "execute_result",
          "data": {
            "text/plain": [
              "[21.9, 24.5, 16.7, 23.1, 23.0, 17.2, 24.4, 27.5, 9.5, 31.6]"
            ]
          },
          "metadata": {},
          "execution_count": 534
        }
      ]
    },
    {
      "cell_type": "markdown",
      "source": [
        "**evaluate the model**"
      ],
      "metadata": {
        "id": "2A9i37WHDwYP"
      }
    },
    {
      "cell_type": "code",
      "source": [
        "from sklearn.metrics import mean_squared_error\n"
      ],
      "metadata": {
        "id": "bL7AUQYSDdDa"
      },
      "execution_count": 535,
      "outputs": []
    },
    {
      "cell_type": "code",
      "source": [
        "lin_mse=mean_squared_error(some_label,pred)"
      ],
      "metadata": {
        "id": "TlOzEpxEHrUq"
      },
      "execution_count": 536,
      "outputs": []
    },
    {
      "cell_type": "code",
      "source": [
        "lin_mse"
      ],
      "metadata": {
        "colab": {
          "base_uri": "https://localhost:8080/"
        },
        "id": "bV4lIQJ4M9lW",
        "outputId": "03ff6e11-657b-460f-af4b-873e2fbad3d5"
      },
      "execution_count": 537,
      "outputs": [
        {
          "output_type": "execute_result",
          "data": {
            "text/plain": [
              "0.32848939999999793"
            ]
          },
          "metadata": {},
          "execution_count": 537
        }
      ]
    },
    {
      "cell_type": "markdown",
      "source": [
        "# **cross validation**"
      ],
      "metadata": {
        "id": "crdKlZGQQesq"
      }
    },
    {
      "cell_type": "code",
      "source": [
        "from sklearn.model_selection import cross_val_score\n",
        "scores=cross_val_score(model,some_data,some_label,scoring='neg_mean_squared_error',cv=10)\n",
        "rmse_score=np.sqrt(-scores)"
      ],
      "metadata": {
        "id": "NeJ5HiHkRocM"
      },
      "execution_count": 538,
      "outputs": []
    },
    {
      "cell_type": "code",
      "source": [
        "rmse_score"
      ],
      "metadata": {
        "colab": {
          "base_uri": "https://localhost:8080/"
        },
        "id": "6UGXoMQ2UVIO",
        "outputId": "97f1212e-3059-4d8a-f42a-1170a4f80cd1"
      },
      "execution_count": 539,
      "outputs": [
        {
          "output_type": "execute_result",
          "data": {
            "text/plain": [
              "array([3.047, 1.026, 0.488, 0.931, 0.629, 2.893, 1.196, 6.748, 8.107,\n",
              "       7.659])"
            ]
          },
          "metadata": {},
          "execution_count": 539
        }
      ]
    },
    {
      "cell_type": "code",
      "source": [
        "def print_scores(scores):\n",
        "  print('scores',scores)\n",
        "  print('mean',scores.mean())\n",
        "  print('Standard dev',scores.std())"
      ],
      "metadata": {
        "id": "sKd1_dgqYe69"
      },
      "execution_count": 540,
      "outputs": []
    },
    {
      "cell_type": "code",
      "source": [
        "print_scores(rmse_score)"
      ],
      "metadata": {
        "colab": {
          "base_uri": "https://localhost:8080/"
        },
        "id": "63ZPU8vcZI0-",
        "outputId": "6fddcbb7-cde6-424b-8025-bb7b8c6f2c1c"
      },
      "execution_count": 541,
      "outputs": [
        {
          "output_type": "stream",
          "name": "stdout",
          "text": [
            "scores [3.047 1.026 0.488 0.931 0.629 2.893 1.196 6.748 8.107 7.659]\n",
            "mean 3.2723999999999984\n",
            "Standard dev 2.9063811243537905\n"
          ]
        }
      ]
    },
    {
      "cell_type": "code",
      "source": [
        "import joblib\n",
        "joblib.dump(model, 'Dragan.sav')"
      ],
      "metadata": {
        "colab": {
          "base_uri": "https://localhost:8080/"
        },
        "id": "XmDoj4N4YfJy",
        "outputId": "7eb0af44-1479-48b2-d4e1-a0e831e52448"
      },
      "execution_count": 542,
      "outputs": [
        {
          "output_type": "execute_result",
          "data": {
            "text/plain": [
              "['Dragan.sav']"
            ]
          },
          "metadata": {},
          "execution_count": 542
        }
      ]
    },
    {
      "cell_type": "markdown",
      "source": [
        "RegressionDecisionTree\n",
        "scores [2.6 7.1 7.7 4.4 1.4 7.7 1.4 3.1 7.2 7.1]\n",
        "mean 4.97\n",
        "Standard dev 2.527469089820883\n",
        "\n"
      ],
      "metadata": {
        "id": "3PavyPl8caL_"
      }
    },
    {
      "cell_type": "markdown",
      "source": [
        "LINEAR REGRESSION\n",
        "scores [ 6.41767971  2.60963686 31.54857377  2.88584437  2.06952679  2.19325722\n",
        "1.46354846  9.38995587  2.05460007  7.04985456]\n",
        "mean 6.7682477684242315\n",
        "Standard dev 8.642187441895038"
      ],
      "metadata": {
        "id": "_nFGffVQc1U3"
      }
    },
    {
      "cell_type": "markdown",
      "source": [
        "RANDOM FOREST\n",
        "scores [3.047 1.026 0.488 0.931 0.629 2.893 1.196 6.748 8.107 7.659]\n",
        "mean 3.2723999999999984\n",
        "Standard dev 2.9063811243537905"
      ],
      "metadata": {
        "id": "TPzKd_vNdzyy"
      }
    },
    {
      "cell_type": "markdown",
      "source": [
        "**Testing**"
      ],
      "metadata": {
        "id": "o23YF1m-c6w8"
      }
    },
    {
      "cell_type": "code",
      "source": [
        "x_test=strat_test_set.drop('MEDV' ,axis=1)\n",
        "y_test=strat_test_set['MEDV'].copy()\n",
        "x_test_pre=mypipeline.transform(x_test)\n",
        "finalPred=model.predict(x_test_pre)\n",
        "finalmse=mean_squared_error(y_test,finalPred)\n",
        "final_rmse=np.sqrt(finalmse)\n",
        "final_rmse"
      ],
      "metadata": {
        "colab": {
          "base_uri": "https://localhost:8080/"
        },
        "id": "-gRPvi5ZjAwp",
        "outputId": "ca292b90-4f30-4977-83e4-be8885bbf085"
      },
      "execution_count": 543,
      "outputs": [
        {
          "output_type": "execute_result",
          "data": {
            "text/plain": [
              "2.8027884277248294"
            ]
          },
          "metadata": {},
          "execution_count": 543
        }
      ]
    }
  ]
}